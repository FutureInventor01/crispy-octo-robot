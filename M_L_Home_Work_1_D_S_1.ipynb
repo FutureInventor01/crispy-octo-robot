{
  "cells": [
    {
      "cell_type": "code",
      "execution_count": 1,
      "metadata": {
        "colab": {
          "base_uri": "https://localhost:8080/",
          "height": 75
        },
        "id": "TtBh7YTxLMKM",
        "outputId": "af1340c9-ed3a-4534-9e96-e1b3d2c07211"
      },
      "outputs": [
        {
          "output_type": "display_data",
          "data": {
            "text/plain": [
              "<IPython.core.display.HTML object>"
            ],
            "text/html": [
              "\n",
              "     <input type=\"file\" id=\"files-f7531f5e-cf60-42b6-ac9d-f9de16c6ade2\" name=\"files[]\" multiple disabled\n",
              "        style=\"border:none\" />\n",
              "     <output id=\"result-f7531f5e-cf60-42b6-ac9d-f9de16c6ade2\">\n",
              "      Upload widget is only available when the cell has been executed in the\n",
              "      current browser session. Please rerun this cell to enable.\n",
              "      </output>\n",
              "      <script>// Copyright 2017 Google LLC\n",
              "//\n",
              "// Licensed under the Apache License, Version 2.0 (the \"License\");\n",
              "// you may not use this file except in compliance with the License.\n",
              "// You may obtain a copy of the License at\n",
              "//\n",
              "//      http://www.apache.org/licenses/LICENSE-2.0\n",
              "//\n",
              "// Unless required by applicable law or agreed to in writing, software\n",
              "// distributed under the License is distributed on an \"AS IS\" BASIS,\n",
              "// WITHOUT WARRANTIES OR CONDITIONS OF ANY KIND, either express or implied.\n",
              "// See the License for the specific language governing permissions and\n",
              "// limitations under the License.\n",
              "\n",
              "/**\n",
              " * @fileoverview Helpers for google.colab Python module.\n",
              " */\n",
              "(function(scope) {\n",
              "function span(text, styleAttributes = {}) {\n",
              "  const element = document.createElement('span');\n",
              "  element.textContent = text;\n",
              "  for (const key of Object.keys(styleAttributes)) {\n",
              "    element.style[key] = styleAttributes[key];\n",
              "  }\n",
              "  return element;\n",
              "}\n",
              "\n",
              "// Max number of bytes which will be uploaded at a time.\n",
              "const MAX_PAYLOAD_SIZE = 100 * 1024;\n",
              "\n",
              "function _uploadFiles(inputId, outputId) {\n",
              "  const steps = uploadFilesStep(inputId, outputId);\n",
              "  const outputElement = document.getElementById(outputId);\n",
              "  // Cache steps on the outputElement to make it available for the next call\n",
              "  // to uploadFilesContinue from Python.\n",
              "  outputElement.steps = steps;\n",
              "\n",
              "  return _uploadFilesContinue(outputId);\n",
              "}\n",
              "\n",
              "// This is roughly an async generator (not supported in the browser yet),\n",
              "// where there are multiple asynchronous steps and the Python side is going\n",
              "// to poll for completion of each step.\n",
              "// This uses a Promise to block the python side on completion of each step,\n",
              "// then passes the result of the previous step as the input to the next step.\n",
              "function _uploadFilesContinue(outputId) {\n",
              "  const outputElement = document.getElementById(outputId);\n",
              "  const steps = outputElement.steps;\n",
              "\n",
              "  const next = steps.next(outputElement.lastPromiseValue);\n",
              "  return Promise.resolve(next.value.promise).then((value) => {\n",
              "    // Cache the last promise value to make it available to the next\n",
              "    // step of the generator.\n",
              "    outputElement.lastPromiseValue = value;\n",
              "    return next.value.response;\n",
              "  });\n",
              "}\n",
              "\n",
              "/**\n",
              " * Generator function which is called between each async step of the upload\n",
              " * process.\n",
              " * @param {string} inputId Element ID of the input file picker element.\n",
              " * @param {string} outputId Element ID of the output display.\n",
              " * @return {!Iterable<!Object>} Iterable of next steps.\n",
              " */\n",
              "function* uploadFilesStep(inputId, outputId) {\n",
              "  const inputElement = document.getElementById(inputId);\n",
              "  inputElement.disabled = false;\n",
              "\n",
              "  const outputElement = document.getElementById(outputId);\n",
              "  outputElement.innerHTML = '';\n",
              "\n",
              "  const pickedPromise = new Promise((resolve) => {\n",
              "    inputElement.addEventListener('change', (e) => {\n",
              "      resolve(e.target.files);\n",
              "    });\n",
              "  });\n",
              "\n",
              "  const cancel = document.createElement('button');\n",
              "  inputElement.parentElement.appendChild(cancel);\n",
              "  cancel.textContent = 'Cancel upload';\n",
              "  const cancelPromise = new Promise((resolve) => {\n",
              "    cancel.onclick = () => {\n",
              "      resolve(null);\n",
              "    };\n",
              "  });\n",
              "\n",
              "  // Wait for the user to pick the files.\n",
              "  const files = yield {\n",
              "    promise: Promise.race([pickedPromise, cancelPromise]),\n",
              "    response: {\n",
              "      action: 'starting',\n",
              "    }\n",
              "  };\n",
              "\n",
              "  cancel.remove();\n",
              "\n",
              "  // Disable the input element since further picks are not allowed.\n",
              "  inputElement.disabled = true;\n",
              "\n",
              "  if (!files) {\n",
              "    return {\n",
              "      response: {\n",
              "        action: 'complete',\n",
              "      }\n",
              "    };\n",
              "  }\n",
              "\n",
              "  for (const file of files) {\n",
              "    const li = document.createElement('li');\n",
              "    li.append(span(file.name, {fontWeight: 'bold'}));\n",
              "    li.append(span(\n",
              "        `(${file.type || 'n/a'}) - ${file.size} bytes, ` +\n",
              "        `last modified: ${\n",
              "            file.lastModifiedDate ? file.lastModifiedDate.toLocaleDateString() :\n",
              "                                    'n/a'} - `));\n",
              "    const percent = span('0% done');\n",
              "    li.appendChild(percent);\n",
              "\n",
              "    outputElement.appendChild(li);\n",
              "\n",
              "    const fileDataPromise = new Promise((resolve) => {\n",
              "      const reader = new FileReader();\n",
              "      reader.onload = (e) => {\n",
              "        resolve(e.target.result);\n",
              "      };\n",
              "      reader.readAsArrayBuffer(file);\n",
              "    });\n",
              "    // Wait for the data to be ready.\n",
              "    let fileData = yield {\n",
              "      promise: fileDataPromise,\n",
              "      response: {\n",
              "        action: 'continue',\n",
              "      }\n",
              "    };\n",
              "\n",
              "    // Use a chunked sending to avoid message size limits. See b/62115660.\n",
              "    let position = 0;\n",
              "    do {\n",
              "      const length = Math.min(fileData.byteLength - position, MAX_PAYLOAD_SIZE);\n",
              "      const chunk = new Uint8Array(fileData, position, length);\n",
              "      position += length;\n",
              "\n",
              "      const base64 = btoa(String.fromCharCode.apply(null, chunk));\n",
              "      yield {\n",
              "        response: {\n",
              "          action: 'append',\n",
              "          file: file.name,\n",
              "          data: base64,\n",
              "        },\n",
              "      };\n",
              "\n",
              "      let percentDone = fileData.byteLength === 0 ?\n",
              "          100 :\n",
              "          Math.round((position / fileData.byteLength) * 100);\n",
              "      percent.textContent = `${percentDone}% done`;\n",
              "\n",
              "    } while (position < fileData.byteLength);\n",
              "  }\n",
              "\n",
              "  // All done.\n",
              "  yield {\n",
              "    response: {\n",
              "      action: 'complete',\n",
              "    }\n",
              "  };\n",
              "}\n",
              "\n",
              "scope.google = scope.google || {};\n",
              "scope.google.colab = scope.google.colab || {};\n",
              "scope.google.colab._files = {\n",
              "  _uploadFiles,\n",
              "  _uploadFilesContinue,\n",
              "};\n",
              "})(self);\n",
              "</script> "
            ]
          },
          "metadata": {}
        },
        {
          "output_type": "stream",
          "name": "stdout",
          "text": [
            "Saving Electric Vehicle Charging Stations.csv to Electric Vehicle Charging Stations.csv\n"
          ]
        }
      ],
      "source": [
        "from google.colab import files\n",
        "\n",
        "\n",
        "uploaded = files.upload()\n"
      ]
    },
    {
      "cell_type": "code",
      "execution_count": 4,
      "metadata": {
        "colab": {
          "base_uri": "https://localhost:8080/"
        },
        "id": "-JmOrortOcPb",
        "outputId": "d1de31b7-e86f-4294-dc4b-3054d0f8eba2"
      },
      "outputs": [
        {
          "output_type": "stream",
          "name": "stdout",
          "text": [
            "                                          Station Name  \\\n",
            "0                                        BMW OF DARIEN   \n",
            "1                         Dunkin’ - Tesla Supercharger   \n",
            "2                  Town of Beacon Falls - Commuter Lot   \n",
            "3                                      OLD SAYBROOK VW   \n",
            "4                               Fairfield Rail Station   \n",
            "..                                                 ...   \n",
            "380                  Lee Partyka Chevrolet Mazda Isuzu   \n",
            "381                                        777 MAIN ST   \n",
            "382                           Norwich Public Utilities   \n",
            "383                                    Fairfield Plaza   \n",
            "384  Eastern Connecticut State University - Shakesp...   \n",
            "\n",
            "             Street Address          City                    Access Days Time  \\\n",
            "0          138-142 Ledge Rd        Darien                      24 hours daily   \n",
            "1             893 E Main St       Meriden  24 hours daily; for Tesla use only   \n",
            "2             105 N Main St  Beacon Falls                      24 hours daily   \n",
            "3    319 Middlesex Turnpike  Old Saybrook                      24 hours daily   \n",
            "4          80 Mill Plain Rd     Fairfield                      24 hours daily   \n",
            "..                      ...           ...                                 ...   \n",
            "380            200 Skiff St        Hamden           Dealership business hours   \n",
            "381            71 Asylum St      Hartford                      24 hours daily   \n",
            "382           173 N Main St       Norwich                      24 hours daily   \n",
            "383          116 Danbury Rd   New Milford                      24 hours daily   \n",
            "384       24 Charger Oak Dr   Willimantic                      24 hours daily   \n",
            "\n",
            "    EV Level1 EVSE Num EV Level2 EVSE Num EV DC Fast Count EV Other Info  \\\n",
            "0                 NONE                  2             NONE          NONE   \n",
            "1                 NONE               NONE                8          NONE   \n",
            "2                 NONE                  1             NONE          NONE   \n",
            "3                 NONE                  2             NONE          NONE   \n",
            "4                 NONE                  2             NONE          NONE   \n",
            "..                 ...                ...              ...           ...   \n",
            "380               NONE                  3             NONE          NONE   \n",
            "381               NONE                 10                1          NONE   \n",
            "382               NONE                  4             NONE          NONE   \n",
            "383               NONE               NONE                1          NONE   \n",
            "384               NONE                  4             NONE          NONE   \n",
            "\n",
            "                 New Georeferenced Column  \n",
            "0           POINT (-73.4764687 41.072882)  \n",
            "1            POINT (-72.773473 41.527367)  \n",
            "2    POINT (-73.065583 41.44548100000001)  \n",
            "3             POINT (-72.3825 41.3102778)  \n",
            "4            POINT (-73.264511 41.143125)  \n",
            "..                                    ...  \n",
            "380        POINT (-72.9100121 41.3729709)  \n",
            "381          POINT (-72.674468 41.766676)  \n",
            "382  POINT (-72.063516 41.52757900000001)  \n",
            "383            POINT (-73.41763 41.55735)  \n",
            "384         POINT (-72.208134 41.7385909)  \n",
            "\n",
            "[385 rows x 9 columns]\n"
          ]
        }
      ],
      "source": [
        "import pandas as pd\n",
        "import numpy as np\n",
        "import seaborn as sns\n",
        "import matplotlib.pyplot as plt\n",
        "import io\n",
        "\n",
        "df = pd.read_csv(io.BytesIO(uploaded['Electric Vehicle Charging Stations.csv']))\n",
        "print(df)"
      ]
    },
    {
      "cell_type": "code",
      "source": [
        "df.isna().sum()"
      ],
      "metadata": {
        "colab": {
          "base_uri": "https://localhost:8080/"
        },
        "id": "bCTtjoiS3Qoz",
        "outputId": "8b78af34-444e-41db-e0fa-d46188d9ccb8"
      },
      "execution_count": 6,
      "outputs": [
        {
          "output_type": "execute_result",
          "data": {
            "text/plain": [
              "Station Name                0\n",
              "Street Address              0\n",
              "City                        0\n",
              "Access Days Time            0\n",
              "EV Level1 EVSE Num          0\n",
              "EV Level2 EVSE Num          0\n",
              "EV DC Fast Count            0\n",
              "EV Other Info               0\n",
              "New Georeferenced Column    0\n",
              "dtype: int64"
            ]
          },
          "metadata": {},
          "execution_count": 6
        }
      ]
    },
    {
      "cell_type": "code",
      "source": [
        "print(df[\"Access Days Time\"].min())\n",
        "print(df[\"Access Days Time\"].max())\n",
        "print(df[\"Access Days Time\"].mean())"
      ],
      "metadata": {
        "colab": {
          "base_uri": "https://localhost:8080/",
          "height": 1000
        },
        "id": "Sl5-Xh4yt3lW",
        "outputId": "05090509-fcfe-48da-c654-c9bea84ff900"
      },
      "execution_count": 5,
      "outputs": [
        {
          "output_type": "stream",
          "name": "stdout",
          "text": [
            "10am-8pm M-Th, 10am-6pm F, 10am-5pm Sat, 1pm-5pm Sun (Sunday hours in winter only)\n",
            "Store business hours; see inside for access\n"
          ]
        },
        {
          "output_type": "error",
          "ename": "TypeError",
          "evalue": "Could not convert 24 hours daily24 hours daily; for Tesla use only24 hours daily24 hours daily24 hours daily24 hours daily24 hours daily; for Tesla use only24 hours daily8am-10pm daily; for customer use only24 hours daily; guest use only; see front desk for access6am-12am daily24 hours dailyDealership business hours24 hours daily24 hours daily; for customer use only; see front desk for access24 hours daily24 hours daily; pay lot24 hours daily24 hours daily; for Tesla use only24 hours daily24 hours daily; for customer use only24 hours daily8am-3pm M-F24 hours dailyDealership business hours24 hours daily24 hours daily24 hours daily24 hours daily24 hours dailyDealership business hoursDealership business hours24 hours daily24 hours daily24 hours daily24 hours dailyDealership business hours24 hours daily; for customer use only24 hours dailyDealership business hours24 hours daily24 hours daily; permit lot24 hours daily24 hours daily24 hours daily; for customer use only; see front desk for access6am-12pm daily24 hours daily7am-7pm M-F24 hours dailyDealership business hoursGarage business hours24 hours daily24 hours daily; for customer use onlyMO: Not Specified; TU: Not Specified; WE: Not Specified; TH: Not Specified; FR: Not Specified; SA: Not Specified; SU: Not Specified24 hours daily24 hours daily24 hours daily; for Tesla use only24 hours daily24 hours daily24 hours daily24 hours daily; for customer use onlyRestricted to garage hours; pay lot24 hours daily24 hours daily24 hours dailyMO: 12:00am-12:00am; TU: 12:00am-12:00am; WE: 12:00am-12:00am; TH: 12:00am-12:00am; FR: 12:00am-12:00am; SA: 12:00am-12:00am; SU: 12:00am-12:00am24 hours daily24 hours daily24 hours daily24 hours daily24 hours daily24 hours dailySchool hours6am-12am daily6am-12am24 hours daily; pay lot24 hours daily; for customer use only24 hours daily24 hours daily24 hours daily24 hours daily24 hours daily24 hours daily24 hours daily24 hours daily; for Tesla use only8am-10pm daily; for customer use only; see inside for access24 hours daily; for member use only; see valet for access24 hours daily; overnight valet fee24 hours daily24 hours daily; priority for customer use24 hours daily24 hours daily24 hours dailyRestricted to garage hours; pay lot24 hours daily; for Tesla use onlyDealership business hours24 hours daily; for Tesla use only24 hours daily24 hours daily; see valet for access6am-6pm daily24 hours daily24 hours daily24 hours daily24 hours daily; Tesla users only24 hours daily24 hours daily24 hours daily24 hours daily; for customer use only; see valet for accessSchool hours8:30am-4:30pm M-FGarage business hours; pay lot24 hours daily24 hours dailyDealership business hours24 hours daily24 hours daily; for customer use onlyDealership business hours24 hours daily24 hours daily; 2 hour limitDealership business hours; for customer use only24 hours daily24 hours daily24 hours daily24 hours dailyMON: 24 hours | TUE: 24 hours | WED: 24 hours | THU: 24 hours | FRI: 24 hours | SAT: 24 hours | SUN: 24 hours24 hours dailyDealership business hoursMO: Not Specified; TU: Not Specified; WE: Not Specified; TH: Not Specified; FR: Not Specified; SA: Not Specified; SU: Not SpecifiedMO: Not Specified; TU: Not Specified; WE: Not Specified; TH: Not Specified; FR: Not Specified; SA: Not Specified; SU: Not Specified24 hours daily; for customer use only; see valet for access24 hours dailyAfter 5pm daily24 hours daily; pay lotRestaurant business hours; for guest use only24 hours dailyGarage business hours; pay lot6am-12pm daily24 hours daily24 hours daily24 hours dailyMO: Not Specified; TU: Not Specified; WE: Not Specified; TH: Not Specified; FR: Not Specified; SA: Not Specified; SU: Not Specified24 hours daily24 hours daily24 hours dailyDealership business hours24 hours dailyDawn to dusk24 hours daily24 hours daily24 hours dailyDealership business hours24 hours dailyDealership business hours; contact 860-892-6000 for more information24 hours daily24 hours dailyStore business hours; see inside for access24 hours daily24 hours daily24 hours daily24 hours daily24 hours daily; for Tesla use only24 hours daily; pay lot24 hours daily; for customer use only; see front desk for access6am-12pm daily24 hours daily24 hours daily24 hours daily24 hours daily24 hours dailyRestricted to garage hours; pay lot24 hours daily24 hours daily; for customer use only; see valet for access24 hours daily24 hours daily24 hours daily; for customer use only; see front desk for access24 hours daily24 hours daily24 hours dailyDealership business hours24 hours daily24 hours daily; Tesla users only24 hours daily24 hours dailyDealership business hoursDealership business hours24 hours daily; for customer use only24 hours daily24 hours daily24 hours daily24 hours daily; for customer use only24 hours daily24 hours daily; for customer use only24 hours daily24 hours dailyDealership business hours24 hours daily; for Tesla use onlyDealership business hours; customer use only24 hours daily24 hours dailyParking lot hours24 hours daily; for Tesla use only24 hours daily24 hours dailySchool hours24 hours daily24 hours daily24 hours daily24 hours daily24 hours daily24 hours daily24 hours daily; for customer use only24 hours daily24 hours daily24 hours daily24 hours daily24 hours daily; pay lot24 hours daily; pay lot24 hours daily; for Tesla use only24 hours dailyGarage business hours; pay lot24 hours daily24 hours daily; priority for Connecticut Green Bank employees24 hours daily; for customer use only; see front desk for access24 hours daily24 hours daily; for customer use only; see front desk for access24 hours daily; Tesla users only24 hours dailyMO: 12:00am-12:00am; TU: 12:00am-12:00am; WE: 12:00am-12:00am; TH: 12:00am-12:00am; FR: 12:00am-12:00am; SA: 12:00am-12:00am; SU: 12:00am-12:00am9am-5pm M-F24 hours daily24 hours daily24 hours daily24 hours daily24 hours daily24 hours daily24 hours daily24 hours dailyMO: Not Specified; TU: Not Specified; WE: Not Specified; TH: Not Specified; FR: Not Specified; SA: Not Specified; SU: Not Specified24 hours daily24 hours daily24 hours dailyMON: 24 hours | TUE: 24 hours | WED: 24 hours | THU: 24 hours | FRI: 24 hours | SAT: 24 hours | SUN: 24 hours24 hours daily24 hours daily24 hours daily24 hours daily; pay lot24 hours daily; for customer use only24 hours daily; for Tesla use only24 hours daily24 hours dailyRestricted to garage hours; pay lot24 hours daily24 hours daily24 hours dailyLot business hours24 hours dailyFor guest use only24 hours daily24 hours daily; for Tesla use only24 hours daily24 hours daily24 hours daily24 hours daily24 hours dailyDealership business hours24 hours daily24 hours daily24 hours dailyMO: Not Specified; TU: Not Specified; WE: Not Specified; TH: Not Specified; FR: Not Specified; SA: Not Specified; SU: Not Specified24 hours daily; for customer use only; see front desk for access24 hours daily24 hours dailyDealership business hours24 hours daily24 hours daily24 hours dailyMO: Not Specified; TU: Not Specified; WE: Not Specified; TH: Not Specified; FR: Not Specified; SA: Not Specified; SU: Not SpecifiedDealership business hours24 hours daily24 hours daily24 hours daily; for Tesla use only6am-12pm dailyDealership business hours24 hours daily; for Tesla use only24 hours daily24 hours daily; pay lot11am-10pm daily24 hours daily24 hours daily24 hours dailyRestricted to garage hours; pay lot24 hours daily24 hours daily24 hours daily24 hours daily7am-10pm M-F, 8am-5pm Sat24 hours daily24 hours daily24 hours daily24 hours daily24 hours daily10am-8pm M-Th, 10am-6pm F, 10am-5pm Sat, 1pm-5pm Sun (Sunday hours in winter only)24 hours daily24 hours daily24 hours daily24 hours daily6am-12am daily24 hours dailyDealership business hours; Ford use only24 hours daily24 hours daily24 hours dailyDealership business hours24 hours daily; pay lot; see attendant for access9am-5pm M-F24 hours daily24 hours daily24 hours daily24 hours daily24 hours daily24 hours daily; for Tesla use only24 hours daily24 hours daily; see front desk for access24 hours daily24 hours daily; for customer use only24 hours daily24 hours daily24 hours daily; for customer use only8am-5pm M-F24 hours daily; for customer use only24 hours daily24 hours daily24 hours daily24 hours daily; for customer use only24 hours daily24 hours daily; see code on the face of charger or ask librarian to initiate charge24 hours daily24 hours daily24 hours dailyDealership business hours24 hours daily; for customer use only24 hours daily; pay lotMON: 24 hours | TUE: 24 hours | WED: 24 hours | THU: 24 hours | FRI: 24 hours | SAT: 24 hours | SUN: 24 hoursPark business hoursMO: Not Specified; TU: Not Specified; WE: Not Specified; TH: Not Specified; FR: Not Specified; SA: Not Specified; SU: Not Specified24 hours dailyParking lot business hours24 hours daily; for Tesla use only24 hours daily; pay lot24 hours daily24 hours daily24 hours daily24 hours daily24 hours daily; for customer use only; see front desk for access6am-12pm daily24 hours daily24 hours daily24 hours daily24 hours dailyMO: 12:00am-12:00am; TU: 12:00am-12:00am; WE: 12:00am-12:00am; TH: 12:00am-12:00am; FR: 12:00am-12:00am; SA: 12:00am-12:00am; SU: 12:00am-12:00am24 hours daily24 hours daily; pay lotDealership business hours24 hours daily24 hours dailyGarage business hours24 hours daily24 hours daily24 hours daily; for customer use only24 hours daily24 hours dailyGarage business hoursDealership business hours24 hours dailyMO: Not Specified; TU: Not Specified; WE: Not Specified; TH: Not Specified; FR: Not Specified; SA: Not Specified; SU: Not Specified24 hours daily; for Tesla use onlyGarage business hours24 hours daily; for Tesla use only24 hours dailyMON: 24 hours | TUE: 24 hours | WED: 24 hours | THU: 24 hours | FRI: 24 hours | SAT: 24 hours | SUN: 24 hoursDealership business hours24 hours daily24 hours daily24 hours daily24 hours daily to numeric",
          "traceback": [
            "\u001b[0;31m---------------------------------------------------------------------------\u001b[0m",
            "\u001b[0;31mValueError\u001b[0m                                Traceback (most recent call last)",
            "\u001b[0;32m/usr/local/lib/python3.10/dist-packages/pandas/core/nanops.py\u001b[0m in \u001b[0;36m_ensure_numeric\u001b[0;34m(x)\u001b[0m\n\u001b[1;32m   1691\u001b[0m         \u001b[0;32mtry\u001b[0m\u001b[0;34m:\u001b[0m\u001b[0;34m\u001b[0m\u001b[0;34m\u001b[0m\u001b[0m\n\u001b[0;32m-> 1692\u001b[0;31m             \u001b[0mx\u001b[0m \u001b[0;34m=\u001b[0m \u001b[0mfloat\u001b[0m\u001b[0;34m(\u001b[0m\u001b[0mx\u001b[0m\u001b[0;34m)\u001b[0m\u001b[0;34m\u001b[0m\u001b[0;34m\u001b[0m\u001b[0m\n\u001b[0m\u001b[1;32m   1693\u001b[0m         \u001b[0;32mexcept\u001b[0m \u001b[0;34m(\u001b[0m\u001b[0mTypeError\u001b[0m\u001b[0;34m,\u001b[0m \u001b[0mValueError\u001b[0m\u001b[0;34m)\u001b[0m\u001b[0;34m:\u001b[0m\u001b[0;34m\u001b[0m\u001b[0;34m\u001b[0m\u001b[0m\n",
            "\u001b[0;31mValueError\u001b[0m: could not convert string to float: '24 hours daily24 hours daily; for Tesla use only24 hours daily24 hours daily24 hours daily24 hours daily24 hours daily; for Tesla use only24 hours daily8am-10pm daily; for customer use only24 hours daily; guest use only; see front desk for access6am-12am daily24 hours dailyDealership business hours24 hours daily24 hours daily; for customer use only; see front desk for access24 hours daily24 hours daily; pay lot24 hours daily24 hours daily; for Tesla use only24 hours daily24 hours daily; for customer use only24 hours daily8am-3pm M-F24 hours dailyDealership business hours24 hours daily24 hours daily24 hours daily24 hours daily24 hours dailyDealership business hoursDealership business hours24 hours daily24 hours daily24 hours daily24 hours dailyDealership business hours24 hours daily; for customer use only24 hours dailyDealership business hours24 hours daily24 hours daily; permit lot24 hours daily24 hours daily24 hours daily; for customer use only; see front desk for access6am-12pm daily24 hours daily7am-7pm M-F24 hours dailyDealership business hoursGarage business hours24 hours daily24 hours daily; for customer use onlyMO: Not Specified; TU: Not Specified; WE: Not Specified; TH: Not Specified; FR: Not Specified; SA: Not Specified; SU: Not Specified24 hours daily24 hours daily24 hours daily; for Tesla use only24 hours daily24 hours daily24 hours daily24 hours daily; for customer use onlyRestricted to garage hours; pa...",
            "\nDuring handling of the above exception, another exception occurred:\n",
            "\u001b[0;31mValueError\u001b[0m                                Traceback (most recent call last)",
            "\u001b[0;32m/usr/local/lib/python3.10/dist-packages/pandas/core/nanops.py\u001b[0m in \u001b[0;36m_ensure_numeric\u001b[0;34m(x)\u001b[0m\n\u001b[1;32m   1695\u001b[0m             \u001b[0;32mtry\u001b[0m\u001b[0;34m:\u001b[0m\u001b[0;34m\u001b[0m\u001b[0;34m\u001b[0m\u001b[0m\n\u001b[0;32m-> 1696\u001b[0;31m                 \u001b[0mx\u001b[0m \u001b[0;34m=\u001b[0m \u001b[0mcomplex\u001b[0m\u001b[0;34m(\u001b[0m\u001b[0mx\u001b[0m\u001b[0;34m)\u001b[0m\u001b[0;34m\u001b[0m\u001b[0;34m\u001b[0m\u001b[0m\n\u001b[0m\u001b[1;32m   1697\u001b[0m             \u001b[0;32mexcept\u001b[0m \u001b[0mValueError\u001b[0m \u001b[0;32mas\u001b[0m \u001b[0merr\u001b[0m\u001b[0;34m:\u001b[0m\u001b[0;34m\u001b[0m\u001b[0;34m\u001b[0m\u001b[0m\n",
            "\u001b[0;31mValueError\u001b[0m: complex() arg is a malformed string",
            "\nThe above exception was the direct cause of the following exception:\n",
            "\u001b[0;31mTypeError\u001b[0m                                 Traceback (most recent call last)",
            "\u001b[0;32m<ipython-input-5-b8f8f5d103f7>\u001b[0m in \u001b[0;36m<cell line: 3>\u001b[0;34m()\u001b[0m\n\u001b[1;32m      1\u001b[0m \u001b[0mprint\u001b[0m\u001b[0;34m(\u001b[0m\u001b[0mdf\u001b[0m\u001b[0;34m[\u001b[0m\u001b[0;34m\"Access Days Time\"\u001b[0m\u001b[0;34m]\u001b[0m\u001b[0;34m.\u001b[0m\u001b[0mmin\u001b[0m\u001b[0;34m(\u001b[0m\u001b[0;34m)\u001b[0m\u001b[0;34m)\u001b[0m\u001b[0;34m\u001b[0m\u001b[0;34m\u001b[0m\u001b[0m\n\u001b[1;32m      2\u001b[0m \u001b[0mprint\u001b[0m\u001b[0;34m(\u001b[0m\u001b[0mdf\u001b[0m\u001b[0;34m[\u001b[0m\u001b[0;34m\"Access Days Time\"\u001b[0m\u001b[0;34m]\u001b[0m\u001b[0;34m.\u001b[0m\u001b[0mmax\u001b[0m\u001b[0;34m(\u001b[0m\u001b[0;34m)\u001b[0m\u001b[0;34m)\u001b[0m\u001b[0;34m\u001b[0m\u001b[0;34m\u001b[0m\u001b[0m\n\u001b[0;32m----> 3\u001b[0;31m \u001b[0mprint\u001b[0m\u001b[0;34m(\u001b[0m\u001b[0mdf\u001b[0m\u001b[0;34m[\u001b[0m\u001b[0;34m\"Access Days Time\"\u001b[0m\u001b[0;34m]\u001b[0m\u001b[0;34m.\u001b[0m\u001b[0mmean\u001b[0m\u001b[0;34m(\u001b[0m\u001b[0;34m)\u001b[0m\u001b[0;34m)\u001b[0m\u001b[0;34m\u001b[0m\u001b[0;34m\u001b[0m\u001b[0m\n\u001b[0m",
            "\u001b[0;32m/usr/local/lib/python3.10/dist-packages/pandas/core/generic.py\u001b[0m in \u001b[0;36mmean\u001b[0;34m(self, axis, skipna, numeric_only, **kwargs)\u001b[0m\n\u001b[1;32m  11554\u001b[0m             \u001b[0;34m**\u001b[0m\u001b[0mkwargs\u001b[0m\u001b[0;34m,\u001b[0m\u001b[0;34m\u001b[0m\u001b[0;34m\u001b[0m\u001b[0m\n\u001b[1;32m  11555\u001b[0m         ):\n\u001b[0;32m> 11556\u001b[0;31m             \u001b[0;32mreturn\u001b[0m \u001b[0mNDFrame\u001b[0m\u001b[0;34m.\u001b[0m\u001b[0mmean\u001b[0m\u001b[0;34m(\u001b[0m\u001b[0mself\u001b[0m\u001b[0;34m,\u001b[0m \u001b[0maxis\u001b[0m\u001b[0;34m,\u001b[0m \u001b[0mskipna\u001b[0m\u001b[0;34m,\u001b[0m \u001b[0mnumeric_only\u001b[0m\u001b[0;34m,\u001b[0m \u001b[0;34m**\u001b[0m\u001b[0mkwargs\u001b[0m\u001b[0;34m)\u001b[0m\u001b[0;34m\u001b[0m\u001b[0;34m\u001b[0m\u001b[0m\n\u001b[0m\u001b[1;32m  11557\u001b[0m \u001b[0;34m\u001b[0m\u001b[0m\n\u001b[1;32m  11558\u001b[0m         \u001b[0msetattr\u001b[0m\u001b[0;34m(\u001b[0m\u001b[0mcls\u001b[0m\u001b[0;34m,\u001b[0m \u001b[0;34m\"mean\"\u001b[0m\u001b[0;34m,\u001b[0m \u001b[0mmean\u001b[0m\u001b[0;34m)\u001b[0m\u001b[0;34m\u001b[0m\u001b[0;34m\u001b[0m\u001b[0m\n",
            "\u001b[0;32m/usr/local/lib/python3.10/dist-packages/pandas/core/generic.py\u001b[0m in \u001b[0;36mmean\u001b[0;34m(self, axis, skipna, numeric_only, **kwargs)\u001b[0m\n\u001b[1;32m  11199\u001b[0m         \u001b[0;34m**\u001b[0m\u001b[0mkwargs\u001b[0m\u001b[0;34m,\u001b[0m\u001b[0;34m\u001b[0m\u001b[0;34m\u001b[0m\u001b[0m\n\u001b[1;32m  11200\u001b[0m     ) -> Series | float:\n\u001b[0;32m> 11201\u001b[0;31m         return self._stat_function(\n\u001b[0m\u001b[1;32m  11202\u001b[0m             \u001b[0;34m\"mean\"\u001b[0m\u001b[0;34m,\u001b[0m \u001b[0mnanops\u001b[0m\u001b[0;34m.\u001b[0m\u001b[0mnanmean\u001b[0m\u001b[0;34m,\u001b[0m \u001b[0maxis\u001b[0m\u001b[0;34m,\u001b[0m \u001b[0mskipna\u001b[0m\u001b[0;34m,\u001b[0m \u001b[0mnumeric_only\u001b[0m\u001b[0;34m,\u001b[0m \u001b[0;34m**\u001b[0m\u001b[0mkwargs\u001b[0m\u001b[0;34m\u001b[0m\u001b[0;34m\u001b[0m\u001b[0m\n\u001b[1;32m  11203\u001b[0m         )\n",
            "\u001b[0;32m/usr/local/lib/python3.10/dist-packages/pandas/core/generic.py\u001b[0m in \u001b[0;36m_stat_function\u001b[0;34m(self, name, func, axis, skipna, numeric_only, **kwargs)\u001b[0m\n\u001b[1;32m  11156\u001b[0m         \u001b[0mvalidate_bool_kwarg\u001b[0m\u001b[0;34m(\u001b[0m\u001b[0mskipna\u001b[0m\u001b[0;34m,\u001b[0m \u001b[0;34m\"skipna\"\u001b[0m\u001b[0;34m,\u001b[0m \u001b[0mnone_allowed\u001b[0m\u001b[0;34m=\u001b[0m\u001b[0;32mFalse\u001b[0m\u001b[0;34m)\u001b[0m\u001b[0;34m\u001b[0m\u001b[0;34m\u001b[0m\u001b[0m\n\u001b[1;32m  11157\u001b[0m \u001b[0;34m\u001b[0m\u001b[0m\n\u001b[0;32m> 11158\u001b[0;31m         return self._reduce(\n\u001b[0m\u001b[1;32m  11159\u001b[0m             \u001b[0mfunc\u001b[0m\u001b[0;34m,\u001b[0m \u001b[0mname\u001b[0m\u001b[0;34m=\u001b[0m\u001b[0mname\u001b[0m\u001b[0;34m,\u001b[0m \u001b[0maxis\u001b[0m\u001b[0;34m=\u001b[0m\u001b[0maxis\u001b[0m\u001b[0;34m,\u001b[0m \u001b[0mskipna\u001b[0m\u001b[0;34m=\u001b[0m\u001b[0mskipna\u001b[0m\u001b[0;34m,\u001b[0m \u001b[0mnumeric_only\u001b[0m\u001b[0;34m=\u001b[0m\u001b[0mnumeric_only\u001b[0m\u001b[0;34m\u001b[0m\u001b[0;34m\u001b[0m\u001b[0m\n\u001b[1;32m  11160\u001b[0m         )\n",
            "\u001b[0;32m/usr/local/lib/python3.10/dist-packages/pandas/core/series.py\u001b[0m in \u001b[0;36m_reduce\u001b[0;34m(self, op, name, axis, skipna, numeric_only, filter_type, **kwds)\u001b[0m\n\u001b[1;32m   4668\u001b[0m                 )\n\u001b[1;32m   4669\u001b[0m             \u001b[0;32mwith\u001b[0m \u001b[0mnp\u001b[0m\u001b[0;34m.\u001b[0m\u001b[0merrstate\u001b[0m\u001b[0;34m(\u001b[0m\u001b[0mall\u001b[0m\u001b[0;34m=\u001b[0m\u001b[0;34m\"ignore\"\u001b[0m\u001b[0;34m)\u001b[0m\u001b[0;34m:\u001b[0m\u001b[0;34m\u001b[0m\u001b[0;34m\u001b[0m\u001b[0m\n\u001b[0;32m-> 4670\u001b[0;31m                 \u001b[0;32mreturn\u001b[0m \u001b[0mop\u001b[0m\u001b[0;34m(\u001b[0m\u001b[0mdelegate\u001b[0m\u001b[0;34m,\u001b[0m \u001b[0mskipna\u001b[0m\u001b[0;34m=\u001b[0m\u001b[0mskipna\u001b[0m\u001b[0;34m,\u001b[0m \u001b[0;34m**\u001b[0m\u001b[0mkwds\u001b[0m\u001b[0;34m)\u001b[0m\u001b[0;34m\u001b[0m\u001b[0;34m\u001b[0m\u001b[0m\n\u001b[0m\u001b[1;32m   4671\u001b[0m \u001b[0;34m\u001b[0m\u001b[0m\n\u001b[1;32m   4672\u001b[0m     def _reindex_indexer(\n",
            "\u001b[0;32m/usr/local/lib/python3.10/dist-packages/pandas/core/nanops.py\u001b[0m in \u001b[0;36m_f\u001b[0;34m(*args, **kwargs)\u001b[0m\n\u001b[1;32m     94\u001b[0m             \u001b[0;32mtry\u001b[0m\u001b[0;34m:\u001b[0m\u001b[0;34m\u001b[0m\u001b[0;34m\u001b[0m\u001b[0m\n\u001b[1;32m     95\u001b[0m                 \u001b[0;32mwith\u001b[0m \u001b[0mnp\u001b[0m\u001b[0;34m.\u001b[0m\u001b[0merrstate\u001b[0m\u001b[0;34m(\u001b[0m\u001b[0minvalid\u001b[0m\u001b[0;34m=\u001b[0m\u001b[0;34m\"ignore\"\u001b[0m\u001b[0;34m)\u001b[0m\u001b[0;34m:\u001b[0m\u001b[0;34m\u001b[0m\u001b[0;34m\u001b[0m\u001b[0m\n\u001b[0;32m---> 96\u001b[0;31m                     \u001b[0;32mreturn\u001b[0m \u001b[0mf\u001b[0m\u001b[0;34m(\u001b[0m\u001b[0;34m*\u001b[0m\u001b[0margs\u001b[0m\u001b[0;34m,\u001b[0m \u001b[0;34m**\u001b[0m\u001b[0mkwargs\u001b[0m\u001b[0;34m)\u001b[0m\u001b[0;34m\u001b[0m\u001b[0;34m\u001b[0m\u001b[0m\n\u001b[0m\u001b[1;32m     97\u001b[0m             \u001b[0;32mexcept\u001b[0m \u001b[0mValueError\u001b[0m \u001b[0;32mas\u001b[0m \u001b[0me\u001b[0m\u001b[0;34m:\u001b[0m\u001b[0;34m\u001b[0m\u001b[0;34m\u001b[0m\u001b[0m\n\u001b[1;32m     98\u001b[0m                 \u001b[0;31m# we want to transform an object array\u001b[0m\u001b[0;34m\u001b[0m\u001b[0;34m\u001b[0m\u001b[0m\n",
            "\u001b[0;32m/usr/local/lib/python3.10/dist-packages/pandas/core/nanops.py\u001b[0m in \u001b[0;36mf\u001b[0;34m(values, axis, skipna, **kwds)\u001b[0m\n\u001b[1;32m    156\u001b[0m                     \u001b[0mresult\u001b[0m \u001b[0;34m=\u001b[0m \u001b[0malt\u001b[0m\u001b[0;34m(\u001b[0m\u001b[0mvalues\u001b[0m\u001b[0;34m,\u001b[0m \u001b[0maxis\u001b[0m\u001b[0;34m=\u001b[0m\u001b[0maxis\u001b[0m\u001b[0;34m,\u001b[0m \u001b[0mskipna\u001b[0m\u001b[0;34m=\u001b[0m\u001b[0mskipna\u001b[0m\u001b[0;34m,\u001b[0m \u001b[0;34m**\u001b[0m\u001b[0mkwds\u001b[0m\u001b[0;34m)\u001b[0m\u001b[0;34m\u001b[0m\u001b[0;34m\u001b[0m\u001b[0m\n\u001b[1;32m    157\u001b[0m             \u001b[0;32melse\u001b[0m\u001b[0;34m:\u001b[0m\u001b[0;34m\u001b[0m\u001b[0;34m\u001b[0m\u001b[0m\n\u001b[0;32m--> 158\u001b[0;31m                 \u001b[0mresult\u001b[0m \u001b[0;34m=\u001b[0m \u001b[0malt\u001b[0m\u001b[0;34m(\u001b[0m\u001b[0mvalues\u001b[0m\u001b[0;34m,\u001b[0m \u001b[0maxis\u001b[0m\u001b[0;34m=\u001b[0m\u001b[0maxis\u001b[0m\u001b[0;34m,\u001b[0m \u001b[0mskipna\u001b[0m\u001b[0;34m=\u001b[0m\u001b[0mskipna\u001b[0m\u001b[0;34m,\u001b[0m \u001b[0;34m**\u001b[0m\u001b[0mkwds\u001b[0m\u001b[0;34m)\u001b[0m\u001b[0;34m\u001b[0m\u001b[0;34m\u001b[0m\u001b[0m\n\u001b[0m\u001b[1;32m    159\u001b[0m \u001b[0;34m\u001b[0m\u001b[0m\n\u001b[1;32m    160\u001b[0m             \u001b[0;32mreturn\u001b[0m \u001b[0mresult\u001b[0m\u001b[0;34m\u001b[0m\u001b[0;34m\u001b[0m\u001b[0m\n",
            "\u001b[0;32m/usr/local/lib/python3.10/dist-packages/pandas/core/nanops.py\u001b[0m in \u001b[0;36mnew_func\u001b[0;34m(values, axis, skipna, mask, **kwargs)\u001b[0m\n\u001b[1;32m    419\u001b[0m             \u001b[0mmask\u001b[0m \u001b[0;34m=\u001b[0m \u001b[0misna\u001b[0m\u001b[0;34m(\u001b[0m\u001b[0mvalues\u001b[0m\u001b[0;34m)\u001b[0m\u001b[0;34m\u001b[0m\u001b[0;34m\u001b[0m\u001b[0m\n\u001b[1;32m    420\u001b[0m \u001b[0;34m\u001b[0m\u001b[0m\n\u001b[0;32m--> 421\u001b[0;31m         \u001b[0mresult\u001b[0m \u001b[0;34m=\u001b[0m \u001b[0mfunc\u001b[0m\u001b[0;34m(\u001b[0m\u001b[0mvalues\u001b[0m\u001b[0;34m,\u001b[0m \u001b[0maxis\u001b[0m\u001b[0;34m=\u001b[0m\u001b[0maxis\u001b[0m\u001b[0;34m,\u001b[0m \u001b[0mskipna\u001b[0m\u001b[0;34m=\u001b[0m\u001b[0mskipna\u001b[0m\u001b[0;34m,\u001b[0m \u001b[0mmask\u001b[0m\u001b[0;34m=\u001b[0m\u001b[0mmask\u001b[0m\u001b[0;34m,\u001b[0m \u001b[0;34m**\u001b[0m\u001b[0mkwargs\u001b[0m\u001b[0;34m)\u001b[0m\u001b[0;34m\u001b[0m\u001b[0;34m\u001b[0m\u001b[0m\n\u001b[0m\u001b[1;32m    422\u001b[0m \u001b[0;34m\u001b[0m\u001b[0m\n\u001b[1;32m    423\u001b[0m         \u001b[0;32mif\u001b[0m \u001b[0mdatetimelike\u001b[0m\u001b[0;34m:\u001b[0m\u001b[0;34m\u001b[0m\u001b[0;34m\u001b[0m\u001b[0m\n",
            "\u001b[0;32m/usr/local/lib/python3.10/dist-packages/pandas/core/nanops.py\u001b[0m in \u001b[0;36mnanmean\u001b[0;34m(values, axis, skipna, mask)\u001b[0m\n\u001b[1;32m    725\u001b[0m \u001b[0;34m\u001b[0m\u001b[0m\n\u001b[1;32m    726\u001b[0m     \u001b[0mcount\u001b[0m \u001b[0;34m=\u001b[0m \u001b[0m_get_counts\u001b[0m\u001b[0;34m(\u001b[0m\u001b[0mvalues\u001b[0m\u001b[0;34m.\u001b[0m\u001b[0mshape\u001b[0m\u001b[0;34m,\u001b[0m \u001b[0mmask\u001b[0m\u001b[0;34m,\u001b[0m \u001b[0maxis\u001b[0m\u001b[0;34m,\u001b[0m \u001b[0mdtype\u001b[0m\u001b[0;34m=\u001b[0m\u001b[0mdtype_count\u001b[0m\u001b[0;34m)\u001b[0m\u001b[0;34m\u001b[0m\u001b[0;34m\u001b[0m\u001b[0m\n\u001b[0;32m--> 727\u001b[0;31m     \u001b[0mthe_sum\u001b[0m \u001b[0;34m=\u001b[0m \u001b[0m_ensure_numeric\u001b[0m\u001b[0;34m(\u001b[0m\u001b[0mvalues\u001b[0m\u001b[0;34m.\u001b[0m\u001b[0msum\u001b[0m\u001b[0;34m(\u001b[0m\u001b[0maxis\u001b[0m\u001b[0;34m,\u001b[0m \u001b[0mdtype\u001b[0m\u001b[0;34m=\u001b[0m\u001b[0mdtype_sum\u001b[0m\u001b[0;34m)\u001b[0m\u001b[0;34m)\u001b[0m\u001b[0;34m\u001b[0m\u001b[0;34m\u001b[0m\u001b[0m\n\u001b[0m\u001b[1;32m    728\u001b[0m \u001b[0;34m\u001b[0m\u001b[0m\n\u001b[1;32m    729\u001b[0m     \u001b[0;32mif\u001b[0m \u001b[0maxis\u001b[0m \u001b[0;32mis\u001b[0m \u001b[0;32mnot\u001b[0m \u001b[0;32mNone\u001b[0m \u001b[0;32mand\u001b[0m \u001b[0mgetattr\u001b[0m\u001b[0;34m(\u001b[0m\u001b[0mthe_sum\u001b[0m\u001b[0;34m,\u001b[0m \u001b[0;34m\"ndim\"\u001b[0m\u001b[0;34m,\u001b[0m \u001b[0;32mFalse\u001b[0m\u001b[0;34m)\u001b[0m\u001b[0;34m:\u001b[0m\u001b[0;34m\u001b[0m\u001b[0;34m\u001b[0m\u001b[0m\n",
            "\u001b[0;32m/usr/local/lib/python3.10/dist-packages/pandas/core/nanops.py\u001b[0m in \u001b[0;36m_ensure_numeric\u001b[0;34m(x)\u001b[0m\n\u001b[1;32m   1697\u001b[0m             \u001b[0;32mexcept\u001b[0m \u001b[0mValueError\u001b[0m \u001b[0;32mas\u001b[0m \u001b[0merr\u001b[0m\u001b[0;34m:\u001b[0m\u001b[0;34m\u001b[0m\u001b[0;34m\u001b[0m\u001b[0m\n\u001b[1;32m   1698\u001b[0m                 \u001b[0;31m# e.g. \"foo\"\u001b[0m\u001b[0;34m\u001b[0m\u001b[0;34m\u001b[0m\u001b[0m\n\u001b[0;32m-> 1699\u001b[0;31m                 \u001b[0;32mraise\u001b[0m \u001b[0mTypeError\u001b[0m\u001b[0;34m(\u001b[0m\u001b[0;34mf\"Could not convert {x} to numeric\"\u001b[0m\u001b[0;34m)\u001b[0m \u001b[0;32mfrom\u001b[0m \u001b[0merr\u001b[0m\u001b[0;34m\u001b[0m\u001b[0;34m\u001b[0m\u001b[0m\n\u001b[0m\u001b[1;32m   1700\u001b[0m     \u001b[0;32mreturn\u001b[0m \u001b[0mx\u001b[0m\u001b[0;34m\u001b[0m\u001b[0;34m\u001b[0m\u001b[0m\n\u001b[1;32m   1701\u001b[0m \u001b[0;34m\u001b[0m\u001b[0m\n",
            "\u001b[0;31mTypeError\u001b[0m: Could not convert 24 hours daily24 hours daily; for Tesla use only24 hours daily24 hours daily24 hours daily24 hours daily24 hours daily; for Tesla use only24 hours daily8am-10pm daily; for customer use only24 hours daily; guest use only; see front desk for access6am-12am daily24 hours dailyDealership business hours24 hours daily24 hours daily; for customer use only; see front desk for access24 hours daily24 hours daily; pay lot24 hours daily24 hours daily; for Tesla use only24 hours daily24 hours daily; for customer use only24 hours daily8am-3pm M-F24 hours dailyDealership business hours24 hours daily24 hours daily24 hours daily24 hours daily24 hours dailyDealership business hoursDealership business hours24 hours daily24 hours daily24 hours daily24 hours dailyDealership business hours24 hours daily; for customer use only24 hours dailyDealership business hours24 hours daily24 hours daily; permit lot24 hours daily24 hours daily24 hours daily; for customer use only; see front desk for access6am-12pm daily24 hours daily7am-7pm M-F24 hours dailyDealership business hoursGarage business hours24 hours daily24 hours daily; for customer use onlyMO: Not Specified; TU: Not Specified; WE: Not Specified; TH: Not Specified; FR: Not Specified; SA: Not Specified; SU: Not Specified24 hours daily24 hours daily24 hours daily; for Tesla use only24 hours daily24 hours daily24 hours daily24 hours daily; for customer use onlyRestricted to garage hours; pay lot24 hours daily..."
          ]
        }
      ]
    },
    {
      "cell_type": "code",
      "source": [
        "df.describe()"
      ],
      "metadata": {
        "colab": {
          "base_uri": "https://localhost:8080/",
          "height": 244
        },
        "id": "JCO752is3jM0",
        "outputId": "4af4db3e-648b-4191-9126-29e23113720e"
      },
      "execution_count": 7,
      "outputs": [
        {
          "output_type": "execute_result",
          "data": {
            "text/plain": [
              "                                Station Name Street Address      City  \\\n",
              "count                                    385            385       385   \n",
              "unique                                   361            365       119   \n",
              "top     Western Connecticut State University   495 Union St  Stamford   \n",
              "freq                                       4              4        21   \n",
              "\n",
              "       Access Days Time EV Level1 EVSE Num EV Level2 EVSE Num  \\\n",
              "count               385                385                385   \n",
              "unique               53                  5                 14   \n",
              "top      24 hours daily               NONE                  2   \n",
              "freq                222                376                179   \n",
              "\n",
              "       EV DC Fast Count EV Other Info      New Georeferenced Column  \n",
              "count               385           385                           385  \n",
              "unique               10             3                           384  \n",
              "top                NONE          NONE  POINT (-72.489406 41.983904)  \n",
              "freq                331           383                             2  "
            ],
            "text/html": [
              "\n",
              "  <div id=\"df-3a6f50ef-1ab5-4d6a-9960-47ed6b8f4cac\" class=\"colab-df-container\">\n",
              "    <div>\n",
              "<style scoped>\n",
              "    .dataframe tbody tr th:only-of-type {\n",
              "        vertical-align: middle;\n",
              "    }\n",
              "\n",
              "    .dataframe tbody tr th {\n",
              "        vertical-align: top;\n",
              "    }\n",
              "\n",
              "    .dataframe thead th {\n",
              "        text-align: right;\n",
              "    }\n",
              "</style>\n",
              "<table border=\"1\" class=\"dataframe\">\n",
              "  <thead>\n",
              "    <tr style=\"text-align: right;\">\n",
              "      <th></th>\n",
              "      <th>Station Name</th>\n",
              "      <th>Street Address</th>\n",
              "      <th>City</th>\n",
              "      <th>Access Days Time</th>\n",
              "      <th>EV Level1 EVSE Num</th>\n",
              "      <th>EV Level2 EVSE Num</th>\n",
              "      <th>EV DC Fast Count</th>\n",
              "      <th>EV Other Info</th>\n",
              "      <th>New Georeferenced Column</th>\n",
              "    </tr>\n",
              "  </thead>\n",
              "  <tbody>\n",
              "    <tr>\n",
              "      <th>count</th>\n",
              "      <td>385</td>\n",
              "      <td>385</td>\n",
              "      <td>385</td>\n",
              "      <td>385</td>\n",
              "      <td>385</td>\n",
              "      <td>385</td>\n",
              "      <td>385</td>\n",
              "      <td>385</td>\n",
              "      <td>385</td>\n",
              "    </tr>\n",
              "    <tr>\n",
              "      <th>unique</th>\n",
              "      <td>361</td>\n",
              "      <td>365</td>\n",
              "      <td>119</td>\n",
              "      <td>53</td>\n",
              "      <td>5</td>\n",
              "      <td>14</td>\n",
              "      <td>10</td>\n",
              "      <td>3</td>\n",
              "      <td>384</td>\n",
              "    </tr>\n",
              "    <tr>\n",
              "      <th>top</th>\n",
              "      <td>Western Connecticut State University</td>\n",
              "      <td>495 Union St</td>\n",
              "      <td>Stamford</td>\n",
              "      <td>24 hours daily</td>\n",
              "      <td>NONE</td>\n",
              "      <td>2</td>\n",
              "      <td>NONE</td>\n",
              "      <td>NONE</td>\n",
              "      <td>POINT (-72.489406 41.983904)</td>\n",
              "    </tr>\n",
              "    <tr>\n",
              "      <th>freq</th>\n",
              "      <td>4</td>\n",
              "      <td>4</td>\n",
              "      <td>21</td>\n",
              "      <td>222</td>\n",
              "      <td>376</td>\n",
              "      <td>179</td>\n",
              "      <td>331</td>\n",
              "      <td>383</td>\n",
              "      <td>2</td>\n",
              "    </tr>\n",
              "  </tbody>\n",
              "</table>\n",
              "</div>\n",
              "    <div class=\"colab-df-buttons\">\n",
              "\n",
              "  <div class=\"colab-df-container\">\n",
              "    <button class=\"colab-df-convert\" onclick=\"convertToInteractive('df-3a6f50ef-1ab5-4d6a-9960-47ed6b8f4cac')\"\n",
              "            title=\"Convert this dataframe to an interactive table.\"\n",
              "            style=\"display:none;\">\n",
              "\n",
              "  <svg xmlns=\"http://www.w3.org/2000/svg\" height=\"24px\" viewBox=\"0 -960 960 960\">\n",
              "    <path d=\"M120-120v-720h720v720H120Zm60-500h600v-160H180v160Zm220 220h160v-160H400v160Zm0 220h160v-160H400v160ZM180-400h160v-160H180v160Zm440 0h160v-160H620v160ZM180-180h160v-160H180v160Zm440 0h160v-160H620v160Z\"/>\n",
              "  </svg>\n",
              "    </button>\n",
              "\n",
              "  <style>\n",
              "    .colab-df-container {\n",
              "      display:flex;\n",
              "      gap: 12px;\n",
              "    }\n",
              "\n",
              "    .colab-df-convert {\n",
              "      background-color: #E8F0FE;\n",
              "      border: none;\n",
              "      border-radius: 50%;\n",
              "      cursor: pointer;\n",
              "      display: none;\n",
              "      fill: #1967D2;\n",
              "      height: 32px;\n",
              "      padding: 0 0 0 0;\n",
              "      width: 32px;\n",
              "    }\n",
              "\n",
              "    .colab-df-convert:hover {\n",
              "      background-color: #E2EBFA;\n",
              "      box-shadow: 0px 1px 2px rgba(60, 64, 67, 0.3), 0px 1px 3px 1px rgba(60, 64, 67, 0.15);\n",
              "      fill: #174EA6;\n",
              "    }\n",
              "\n",
              "    .colab-df-buttons div {\n",
              "      margin-bottom: 4px;\n",
              "    }\n",
              "\n",
              "    [theme=dark] .colab-df-convert {\n",
              "      background-color: #3B4455;\n",
              "      fill: #D2E3FC;\n",
              "    }\n",
              "\n",
              "    [theme=dark] .colab-df-convert:hover {\n",
              "      background-color: #434B5C;\n",
              "      box-shadow: 0px 1px 3px 1px rgba(0, 0, 0, 0.15);\n",
              "      filter: drop-shadow(0px 1px 2px rgba(0, 0, 0, 0.3));\n",
              "      fill: #FFFFFF;\n",
              "    }\n",
              "  </style>\n",
              "\n",
              "    <script>\n",
              "      const buttonEl =\n",
              "        document.querySelector('#df-3a6f50ef-1ab5-4d6a-9960-47ed6b8f4cac button.colab-df-convert');\n",
              "      buttonEl.style.display =\n",
              "        google.colab.kernel.accessAllowed ? 'block' : 'none';\n",
              "\n",
              "      async function convertToInteractive(key) {\n",
              "        const element = document.querySelector('#df-3a6f50ef-1ab5-4d6a-9960-47ed6b8f4cac');\n",
              "        const dataTable =\n",
              "          await google.colab.kernel.invokeFunction('convertToInteractive',\n",
              "                                                    [key], {});\n",
              "        if (!dataTable) return;\n",
              "\n",
              "        const docLinkHtml = 'Like what you see? Visit the ' +\n",
              "          '<a target=\"_blank\" href=https://colab.research.google.com/notebooks/data_table.ipynb>data table notebook</a>'\n",
              "          + ' to learn more about interactive tables.';\n",
              "        element.innerHTML = '';\n",
              "        dataTable['output_type'] = 'display_data';\n",
              "        await google.colab.output.renderOutput(dataTable, element);\n",
              "        const docLink = document.createElement('div');\n",
              "        docLink.innerHTML = docLinkHtml;\n",
              "        element.appendChild(docLink);\n",
              "      }\n",
              "    </script>\n",
              "  </div>\n",
              "\n",
              "\n",
              "<div id=\"df-f3bc114f-f356-44fd-b9b0-e05129dc402c\">\n",
              "  <button class=\"colab-df-quickchart\" onclick=\"quickchart('df-f3bc114f-f356-44fd-b9b0-e05129dc402c')\"\n",
              "            title=\"Suggest charts\"\n",
              "            style=\"display:none;\">\n",
              "\n",
              "<svg xmlns=\"http://www.w3.org/2000/svg\" height=\"24px\"viewBox=\"0 0 24 24\"\n",
              "     width=\"24px\">\n",
              "    <g>\n",
              "        <path d=\"M19 3H5c-1.1 0-2 .9-2 2v14c0 1.1.9 2 2 2h14c1.1 0 2-.9 2-2V5c0-1.1-.9-2-2-2zM9 17H7v-7h2v7zm4 0h-2V7h2v10zm4 0h-2v-4h2v4z\"/>\n",
              "    </g>\n",
              "</svg>\n",
              "  </button>\n",
              "\n",
              "<style>\n",
              "  .colab-df-quickchart {\n",
              "      --bg-color: #E8F0FE;\n",
              "      --fill-color: #1967D2;\n",
              "      --hover-bg-color: #E2EBFA;\n",
              "      --hover-fill-color: #174EA6;\n",
              "      --disabled-fill-color: #AAA;\n",
              "      --disabled-bg-color: #DDD;\n",
              "  }\n",
              "\n",
              "  [theme=dark] .colab-df-quickchart {\n",
              "      --bg-color: #3B4455;\n",
              "      --fill-color: #D2E3FC;\n",
              "      --hover-bg-color: #434B5C;\n",
              "      --hover-fill-color: #FFFFFF;\n",
              "      --disabled-bg-color: #3B4455;\n",
              "      --disabled-fill-color: #666;\n",
              "  }\n",
              "\n",
              "  .colab-df-quickchart {\n",
              "    background-color: var(--bg-color);\n",
              "    border: none;\n",
              "    border-radius: 50%;\n",
              "    cursor: pointer;\n",
              "    display: none;\n",
              "    fill: var(--fill-color);\n",
              "    height: 32px;\n",
              "    padding: 0;\n",
              "    width: 32px;\n",
              "  }\n",
              "\n",
              "  .colab-df-quickchart:hover {\n",
              "    background-color: var(--hover-bg-color);\n",
              "    box-shadow: 0 1px 2px rgba(60, 64, 67, 0.3), 0 1px 3px 1px rgba(60, 64, 67, 0.15);\n",
              "    fill: var(--button-hover-fill-color);\n",
              "  }\n",
              "\n",
              "  .colab-df-quickchart-complete:disabled,\n",
              "  .colab-df-quickchart-complete:disabled:hover {\n",
              "    background-color: var(--disabled-bg-color);\n",
              "    fill: var(--disabled-fill-color);\n",
              "    box-shadow: none;\n",
              "  }\n",
              "\n",
              "  .colab-df-spinner {\n",
              "    border: 2px solid var(--fill-color);\n",
              "    border-color: transparent;\n",
              "    border-bottom-color: var(--fill-color);\n",
              "    animation:\n",
              "      spin 1s steps(1) infinite;\n",
              "  }\n",
              "\n",
              "  @keyframes spin {\n",
              "    0% {\n",
              "      border-color: transparent;\n",
              "      border-bottom-color: var(--fill-color);\n",
              "      border-left-color: var(--fill-color);\n",
              "    }\n",
              "    20% {\n",
              "      border-color: transparent;\n",
              "      border-left-color: var(--fill-color);\n",
              "      border-top-color: var(--fill-color);\n",
              "    }\n",
              "    30% {\n",
              "      border-color: transparent;\n",
              "      border-left-color: var(--fill-color);\n",
              "      border-top-color: var(--fill-color);\n",
              "      border-right-color: var(--fill-color);\n",
              "    }\n",
              "    40% {\n",
              "      border-color: transparent;\n",
              "      border-right-color: var(--fill-color);\n",
              "      border-top-color: var(--fill-color);\n",
              "    }\n",
              "    60% {\n",
              "      border-color: transparent;\n",
              "      border-right-color: var(--fill-color);\n",
              "    }\n",
              "    80% {\n",
              "      border-color: transparent;\n",
              "      border-right-color: var(--fill-color);\n",
              "      border-bottom-color: var(--fill-color);\n",
              "    }\n",
              "    90% {\n",
              "      border-color: transparent;\n",
              "      border-bottom-color: var(--fill-color);\n",
              "    }\n",
              "  }\n",
              "</style>\n",
              "\n",
              "  <script>\n",
              "    async function quickchart(key) {\n",
              "      const quickchartButtonEl =\n",
              "        document.querySelector('#' + key + ' button');\n",
              "      quickchartButtonEl.disabled = true;  // To prevent multiple clicks.\n",
              "      quickchartButtonEl.classList.add('colab-df-spinner');\n",
              "      try {\n",
              "        const charts = await google.colab.kernel.invokeFunction(\n",
              "            'suggestCharts', [key], {});\n",
              "      } catch (error) {\n",
              "        console.error('Error during call to suggestCharts:', error);\n",
              "      }\n",
              "      quickchartButtonEl.classList.remove('colab-df-spinner');\n",
              "      quickchartButtonEl.classList.add('colab-df-quickchart-complete');\n",
              "    }\n",
              "    (() => {\n",
              "      let quickchartButtonEl =\n",
              "        document.querySelector('#df-f3bc114f-f356-44fd-b9b0-e05129dc402c button');\n",
              "      quickchartButtonEl.style.display =\n",
              "        google.colab.kernel.accessAllowed ? 'block' : 'none';\n",
              "    })();\n",
              "  </script>\n",
              "</div>\n",
              "\n",
              "    </div>\n",
              "  </div>\n"
            ],
            "application/vnd.google.colaboratory.intrinsic+json": {
              "type": "dataframe",
              "summary": "{\n  \"name\": \"df\",\n  \"rows\": 4,\n  \"fields\": [\n    {\n      \"column\": \"Station Name\",\n      \"properties\": {\n        \"dtype\": \"string\",\n        \"num_unique_values\": 4,\n        \"samples\": [\n          361,\n          \"4\",\n          \"385\"\n        ],\n        \"semantic_type\": \"\",\n        \"description\": \"\"\n      }\n    },\n    {\n      \"column\": \"Street Address\",\n      \"properties\": {\n        \"dtype\": \"string\",\n        \"num_unique_values\": 4,\n        \"samples\": [\n          365,\n          \"4\",\n          \"385\"\n        ],\n        \"semantic_type\": \"\",\n        \"description\": \"\"\n      }\n    },\n    {\n      \"column\": \"City\",\n      \"properties\": {\n        \"dtype\": \"string\",\n        \"num_unique_values\": 4,\n        \"samples\": [\n          119,\n          \"21\",\n          \"385\"\n        ],\n        \"semantic_type\": \"\",\n        \"description\": \"\"\n      }\n    },\n    {\n      \"column\": \"Access Days Time\",\n      \"properties\": {\n        \"dtype\": \"string\",\n        \"num_unique_values\": 4,\n        \"samples\": [\n          53,\n          \"222\",\n          \"385\"\n        ],\n        \"semantic_type\": \"\",\n        \"description\": \"\"\n      }\n    },\n    {\n      \"column\": \"EV Level1 EVSE Num\",\n      \"properties\": {\n        \"dtype\": \"string\",\n        \"num_unique_values\": 4,\n        \"samples\": [\n          5,\n          \"376\",\n          \"385\"\n        ],\n        \"semantic_type\": \"\",\n        \"description\": \"\"\n      }\n    },\n    {\n      \"column\": \"EV Level2 EVSE Num\",\n      \"properties\": {\n        \"dtype\": \"string\",\n        \"num_unique_values\": 4,\n        \"samples\": [\n          14,\n          \"179\",\n          \"385\"\n        ],\n        \"semantic_type\": \"\",\n        \"description\": \"\"\n      }\n    },\n    {\n      \"column\": \"EV DC Fast Count\",\n      \"properties\": {\n        \"dtype\": \"string\",\n        \"num_unique_values\": 4,\n        \"samples\": [\n          10,\n          \"331\",\n          \"385\"\n        ],\n        \"semantic_type\": \"\",\n        \"description\": \"\"\n      }\n    },\n    {\n      \"column\": \"EV Other Info\",\n      \"properties\": {\n        \"dtype\": \"string\",\n        \"num_unique_values\": 4,\n        \"samples\": [\n          3,\n          \"383\",\n          \"385\"\n        ],\n        \"semantic_type\": \"\",\n        \"description\": \"\"\n      }\n    },\n    {\n      \"column\": \"New Georeferenced Column\",\n      \"properties\": {\n        \"dtype\": \"string\",\n        \"num_unique_values\": 4,\n        \"samples\": [\n          384,\n          \"2\",\n          \"385\"\n        ],\n        \"semantic_type\": \"\",\n        \"description\": \"\"\n      }\n    }\n  ]\n}"
            }
          },
          "metadata": {},
          "execution_count": 7
        }
      ]
    },
    {
      "cell_type": "code",
      "source": [
        "df.info()"
      ],
      "metadata": {
        "colab": {
          "base_uri": "https://localhost:8080/"
        },
        "id": "FC1C3Fva3vNG",
        "outputId": "d08dda32-4a75-4abb-bf60-781f7ac5195b"
      },
      "execution_count": 8,
      "outputs": [
        {
          "output_type": "stream",
          "name": "stdout",
          "text": [
            "<class 'pandas.core.frame.DataFrame'>\n",
            "RangeIndex: 385 entries, 0 to 384\n",
            "Data columns (total 9 columns):\n",
            " #   Column                    Non-Null Count  Dtype \n",
            "---  ------                    --------------  ----- \n",
            " 0   Station Name              385 non-null    object\n",
            " 1   Street Address            385 non-null    object\n",
            " 2   City                      385 non-null    object\n",
            " 3   Access Days Time          385 non-null    object\n",
            " 4   EV Level1 EVSE Num        385 non-null    object\n",
            " 5   EV Level2 EVSE Num        385 non-null    object\n",
            " 6   EV DC Fast Count          385 non-null    object\n",
            " 7   EV Other Info             385 non-null    object\n",
            " 8   New Georeferenced Column  385 non-null    object\n",
            "dtypes: object(9)\n",
            "memory usage: 27.2+ KB\n"
          ]
        }
      ]
    },
    {
      "cell_type": "code",
      "execution_count": null,
      "metadata": {
        "colab": {
          "base_uri": "https://localhost:8080/"
        },
        "id": "XJXKB4CCquaX",
        "outputId": "737afbcc-dc80-4afc-c59d-71ad83f8b44f"
      },
      "outputs": [
        {
          "output_type": "stream",
          "name": "stdout",
          "text": [
            "Station Name                385\n",
            "Street Address              385\n",
            "City                        385\n",
            "Access Days Time            385\n",
            "EV Level1 EVSE Num          385\n",
            "EV Level2 EVSE Num          385\n",
            "EV DC Fast Count            385\n",
            "EV Other Info               385\n",
            "New Georeferenced Column    385\n",
            "dtype: int64\n"
          ]
        }
      ],
      "source": [
        "print (df.count(0))"
      ]
    },
    {
      "cell_type": "code",
      "execution_count": null,
      "metadata": {
        "colab": {
          "base_uri": "https://localhost:8080/"
        },
        "id": "Ukj5eOt6q7Fx",
        "outputId": "b4f3604a-13d5-4418-9272-929b3e9f6709"
      },
      "outputs": [
        {
          "output_type": "stream",
          "name": "stdout",
          "text": [
            "(385, 9)\n"
          ]
        }
      ],
      "source": [
        "print (df.shape)"
      ]
    },
    {
      "cell_type": "code",
      "execution_count": null,
      "metadata": {
        "colab": {
          "base_uri": "https://localhost:8080/"
        },
        "id": "YinWvgmMsD5J",
        "outputId": "3d7596a3-d6df-415a-9016-f72a82203e1f"
      },
      "outputs": [
        {
          "output_type": "stream",
          "name": "stdout",
          "text": [
            "3465\n"
          ]
        }
      ],
      "source": [
        "print (df.size)"
      ]
    },
    {
      "cell_type": "code",
      "source": [
        "sns.pairplot(df)"
      ],
      "metadata": {
        "colab": {
          "base_uri": "https://localhost:8080/",
          "height": 315
        },
        "id": "6PdZjht934Nz",
        "outputId": "5060e8fe-e374-4d43-ffbd-c22316f36645"
      },
      "execution_count": 9,
      "outputs": [
        {
          "output_type": "error",
          "ename": "ValueError",
          "evalue": "No variables found for grid columns.",
          "traceback": [
            "\u001b[0;31m---------------------------------------------------------------------------\u001b[0m",
            "\u001b[0;31mValueError\u001b[0m                                Traceback (most recent call last)",
            "\u001b[0;32m<ipython-input-9-1a6fe1782b2f>\u001b[0m in \u001b[0;36m<cell line: 1>\u001b[0;34m()\u001b[0m\n\u001b[0;32m----> 1\u001b[0;31m \u001b[0msns\u001b[0m\u001b[0;34m.\u001b[0m\u001b[0mpairplot\u001b[0m\u001b[0;34m(\u001b[0m\u001b[0mdf\u001b[0m\u001b[0;34m)\u001b[0m\u001b[0;34m\u001b[0m\u001b[0;34m\u001b[0m\u001b[0m\n\u001b[0m",
            "\u001b[0;32m/usr/local/lib/python3.10/dist-packages/seaborn/axisgrid.py\u001b[0m in \u001b[0;36mpairplot\u001b[0;34m(data, hue, hue_order, palette, vars, x_vars, y_vars, kind, diag_kind, markers, height, aspect, corner, dropna, plot_kws, diag_kws, grid_kws, size)\u001b[0m\n\u001b[1;32m   2117\u001b[0m     \u001b[0;31m# Set up the PairGrid\u001b[0m\u001b[0;34m\u001b[0m\u001b[0;34m\u001b[0m\u001b[0m\n\u001b[1;32m   2118\u001b[0m     \u001b[0mgrid_kws\u001b[0m\u001b[0;34m.\u001b[0m\u001b[0msetdefault\u001b[0m\u001b[0;34m(\u001b[0m\u001b[0;34m\"diag_sharey\"\u001b[0m\u001b[0;34m,\u001b[0m \u001b[0mdiag_kind\u001b[0m \u001b[0;34m==\u001b[0m \u001b[0;34m\"hist\"\u001b[0m\u001b[0;34m)\u001b[0m\u001b[0;34m\u001b[0m\u001b[0;34m\u001b[0m\u001b[0m\n\u001b[0;32m-> 2119\u001b[0;31m     grid = PairGrid(data, vars=vars, x_vars=x_vars, y_vars=y_vars, hue=hue,\n\u001b[0m\u001b[1;32m   2120\u001b[0m                     \u001b[0mhue_order\u001b[0m\u001b[0;34m=\u001b[0m\u001b[0mhue_order\u001b[0m\u001b[0;34m,\u001b[0m \u001b[0mpalette\u001b[0m\u001b[0;34m=\u001b[0m\u001b[0mpalette\u001b[0m\u001b[0;34m,\u001b[0m \u001b[0mcorner\u001b[0m\u001b[0;34m=\u001b[0m\u001b[0mcorner\u001b[0m\u001b[0;34m,\u001b[0m\u001b[0;34m\u001b[0m\u001b[0;34m\u001b[0m\u001b[0m\n\u001b[1;32m   2121\u001b[0m                     height=height, aspect=aspect, dropna=dropna, **grid_kws)\n",
            "\u001b[0;32m/usr/local/lib/python3.10/dist-packages/seaborn/axisgrid.py\u001b[0m in \u001b[0;36m__init__\u001b[0;34m(self, data, hue, vars, x_vars, y_vars, hue_order, palette, hue_kws, corner, diag_sharey, height, aspect, layout_pad, despine, dropna)\u001b[0m\n\u001b[1;32m   1270\u001b[0m \u001b[0;34m\u001b[0m\u001b[0m\n\u001b[1;32m   1271\u001b[0m         \u001b[0;32mif\u001b[0m \u001b[0;32mnot\u001b[0m \u001b[0mx_vars\u001b[0m\u001b[0;34m:\u001b[0m\u001b[0;34m\u001b[0m\u001b[0;34m\u001b[0m\u001b[0m\n\u001b[0;32m-> 1272\u001b[0;31m             \u001b[0;32mraise\u001b[0m \u001b[0mValueError\u001b[0m\u001b[0;34m(\u001b[0m\u001b[0;34m\"No variables found for grid columns.\"\u001b[0m\u001b[0;34m)\u001b[0m\u001b[0;34m\u001b[0m\u001b[0;34m\u001b[0m\u001b[0m\n\u001b[0m\u001b[1;32m   1273\u001b[0m         \u001b[0;32mif\u001b[0m \u001b[0;32mnot\u001b[0m \u001b[0my_vars\u001b[0m\u001b[0;34m:\u001b[0m\u001b[0;34m\u001b[0m\u001b[0;34m\u001b[0m\u001b[0m\n\u001b[1;32m   1274\u001b[0m             \u001b[0;32mraise\u001b[0m \u001b[0mValueError\u001b[0m\u001b[0;34m(\u001b[0m\u001b[0;34m\"No variables found for grid rows.\"\u001b[0m\u001b[0;34m)\u001b[0m\u001b[0;34m\u001b[0m\u001b[0;34m\u001b[0m\u001b[0m\n",
            "\u001b[0;31mValueError\u001b[0m: No variables found for grid columns."
          ]
        }
      ]
    },
    {
      "cell_type": "code",
      "execution_count": null,
      "metadata": {
        "colab": {
          "base_uri": "https://localhost:8080/"
        },
        "id": "OOwLqNDlsSsG",
        "outputId": "f63a4c2a-45c1-49c6-aaca-5ffc4741aa2e"
      },
      "outputs": [
        {
          "output_type": "stream",
          "name": "stdout",
          "text": [
            "[['BMW OF DARIEN' '138-142 Ledge Rd' 'Darien' ... '2' 'NONE' 'NONE']\n",
            " ['Dunkin’ - Tesla Supercharger' '893 E Main St' 'Meriden' ... 'NONE' '8'\n",
            "  'NONE']\n",
            " ['Town of Beacon Falls - Commuter Lot' '105 N Main St' 'Beacon Falls'\n",
            "  ... '1' 'NONE' 'NONE']\n",
            " ...\n",
            " ['Norwich Public Utilities' '173 N Main St' 'Norwich' ... '4' 'NONE'\n",
            "  'NONE']\n",
            " ['Fairfield Plaza' '116 Danbury Rd' 'New Milford' ... 'NONE' '1' 'NONE']\n",
            " ['Eastern Connecticut State University - Shakespeare Parking Garage'\n",
            "  '24 Charger Oak Dr' 'Willimantic' ... '4' 'NONE' 'NONE']]\n"
          ]
        }
      ],
      "source": [
        "x = df.iloc[:, :-1].values\n",
        "print(x)"
      ]
    },
    {
      "cell_type": "code",
      "source": [
        "Y = df.iloc[:, -1].values\n",
        "print(Y)"
      ],
      "metadata": {
        "colab": {
          "base_uri": "https://localhost:8080/"
        },
        "id": "VHg_hdyntRLu",
        "outputId": "1435fbd3-2dba-435c-d80f-6f7aed27d801"
      },
      "execution_count": null,
      "outputs": [
        {
          "output_type": "stream",
          "name": "stdout",
          "text": [
            "['POINT (-73.4764687 41.072882)' 'POINT (-72.773473 41.527367)'\n",
            " 'POINT (-73.065583 41.44548100000001)' 'POINT (-72.3825 41.3102778)'\n",
            " 'POINT (-73.264511 41.143125)' 'POINT (-72.0741188 41.525611)'\n",
            " 'POINT (-72.759717 41.722672)' 'POINT (-72.6086744 41.711717)'\n",
            " 'POINT (-73.476189 41.072919)' 'POINT (-72.026147 41.365973)'\n",
            " 'POINT (-73.025659 41.550922)' 'POINT (-72.79061800000001 41.730405)'\n",
            " 'POINT (-73.106051 41.299792)' 'POINT (-72.8231924 41.4618954)'\n",
            " 'POINT (-72.679679 41.650999)' 'POINT (-73.466318 41.078282)'\n",
            " 'POINT (-72.926722 41.297487000000004)' 'POINT (-73.297822 41.251966)'\n",
            " 'POINT (-72.562282 41.80452)' 'POINT (-73.138786 41.988528)'\n",
            " 'POINT (-71.961361 41.37356200000001)' 'POINT (-72.670609 41.929342)'\n",
            " 'POINT (-72.261825 41.811817)' 'POINT (-72.560456 41.263416)'\n",
            " 'POINT (-72.770648 41.649365)' 'POINT (-72.195701 41.768396)'\n",
            " 'POINT (-73.1049768 41.8750604)' 'POINT (-73.070231 41.7640244)'\n",
            " 'POINT (-72.065994 41.317722)' 'POINT (-72.6824246 41.5871612)'\n",
            " 'POINT (-73.230597 41.176442)' 'POINT (-72.188445 41.728247)'\n",
            " 'POINT (-72.43786 41.28006)' 'POINT (-72.870574 41.353572)'\n",
            " 'POINT (-72.9270748 41.2975353)' 'POINT (-73.12122300000001 41.803497)'\n",
            " 'POINT (-72.894672 41.699374)' 'POINT (-72.781436 41.296212)'\n",
            " 'POINT (-72.242231 41.800421)' 'POINT (-72.507845 41.814316)'\n",
            " 'POINT (-72.797226 41.536236)' 'POINT (-72.948514 41.306474)'\n",
            " 'POINT (-72.796702 41.537218)' 'POINT (-72.7788286 41.664356600000005)'\n",
            " 'POINT (-72.657682 41.287164)' 'POINT (-73.02614 41.549361)'\n",
            " 'POINT (-72.489406 41.983904)' 'POINT (-72.684758 41.765434)'\n",
            " 'POINT (-72.711926 41.563917)' 'POINT (-72.817586 41.467376)'\n",
            " 'POINT (-72.676489 41.766656)' 'POINT (-73.132624 41.198568)'\n",
            " 'POINT (-71.906918 41.331744)' 'POINT (-73.35947443366 41.145215689458)'\n",
            " 'POINT (-73.5318605 41.0409048)' 'POINT (-73.117486 41.202742)'\n",
            " 'POINT (-73.005613 41.53713)' 'POINT (-72.211435 41.354043)'\n",
            " 'POINT (-72.762739 41.692973)' 'POINT (-73.41116 41.5785572)'\n",
            " 'POINT (-73.271401 41.203858)' 'POINT (-73.541625 41.054155)'\n",
            " 'POINT (-73.2847962 41.4007757)' 'POINT (-73.53779 41.050574)'\n",
            " 'POINT (-72.701271 41.765034)' 'POINT (-72.7373929 41.8298475)'\n",
            " 'POINT (-73.3124 41.628033)' 'POINT (-72.2442218 41.8041965)'\n",
            " 'POINT (-72.8415278 41.4168397)' 'POINT (-72.303231 41.953668)'\n",
            " 'POINT (-72.722829 41.742975)' 'POINT (-72.7214 41.6972)'\n",
            " 'POINT (-73.267585 41.162306)' 'POINT (-72.670165 41.763287)'\n",
            " 'POINT (-73.418883 41.104791)' 'POINT (-72.960178 41.327848)'\n",
            " 'POINT (-73.230644 41.465044)' 'POINT (-73.492605 41.282264)'\n",
            " 'POINT (-72.802667 41.539218)' 'POINT (-73.317072 41.138623)'\n",
            " 'POINT (-71.9600027 41.4733521)' 'POINT (-72.6446905 41.7660404)'\n",
            " 'POINT (-71.9600034 41.4733358)' 'POINT (-72.8580302 41.6659341)'\n",
            " 'POINT (-73.504917 41.067306)' 'POINT (-73.240315 41.157925)'\n",
            " 'POINT (-73.709755 41.094294)' 'POINT (-72.608573 41.27077)'\n",
            " 'POINT (-72.729203 41.65514)' 'POINT (-72.809324 41.289894)'\n",
            " 'POINT (-72.608292 41.714088)' 'POINT (-73.516045 41.054321)'\n",
            " 'POINT (-72.7479436 41.784487)' 'POINT (-72.093784 41.355486)'\n",
            " 'POINT (-73.036133 41.238119)' 'POINT (-72.552974 41.795898)'\n",
            " 'POINT (-72.119376 41.370726)' 'POINT (-72.8670212999999 41.6717114)'\n",
            " 'POINT (-72.932698 41.308741)' 'POINT (-72.668833 41.764376)'\n",
            " 'POINT (-72.214432 41.723169)' 'POINT (-73.11066 41.29434)'\n",
            " 'POINT (-73.475576 41.3777667)'\n",
            " 'POINT (-72.5804966772461 41.2904885216395)'\n",
            " 'POINT (-72.923177 41.811022)' 'POINT (-72.9263108 41.2974027)'\n",
            " 'POINT (-72.6809263 41.472228)' 'POINT (-73.245943 41.146162)'\n",
            " 'POINT (-73.234423 41.185685)' 'POINT (-72.678633 41.763294)'\n",
            " 'POINT (-72.744596 41.759108000000005)' 'POINT (-72.877465 41.596225)'\n",
            " 'POINT (-73.5160406 41.053776)' 'POINT (-73.233711 41.167407)'\n",
            " 'POINT (-73.487032 41.465514)' 'POINT (-73.004741 41.2645)'\n",
            " 'POINT (-72.968506 41.307602)' 'POINT (-73.4948097 41.070243)'\n",
            " 'POINT (-72.756902 41.305071)' 'POINT (-73.472615 41.331117)'\n",
            " 'POINT (-72.416634 41.28648200000001)' 'POINT (-73.314364 41.138478)'\n",
            " 'POINT (-73.166282 41.190701)' 'POINT (-72.289249 41.956727)'\n",
            " 'POINT (-72.670032 41.767185)' 'POINT (-72.312334 41.780058)'\n",
            " 'POINT (-73.131808 41.198467)' 'POINT (-73.6476069 41.016928)'\n",
            " 'POINT (-72.9217309 41.3103893)' 'POINT (-72.08668800000001 41.488423)'\n",
            " 'POINT (-72.948327 41.268415)' 'POINT (-72.766414 41.690789)'\n",
            " 'POINT (-72.928864 41.305993)' 'POINT (-72.583384 41.997588)'\n",
            " 'POINT (-72.647076 41.541535)' 'POINT (-72.243355 41.804877)'\n",
            " 'POINT (-73.026799 41.55022)' 'POINT (-72.467484 41.903582)'\n",
            " 'POINT (-73.2665157 41.1247386999999)' 'POINT (-72.689438 41.745582)'\n",
            " 'POINT (-73.370496 41.119206)' 'POINT (-72.749512 41.597163)'\n",
            " 'POINT (-73.47251 41.727419)' 'POINT (-72.555059 41.797073)'\n",
            " 'POINT (-73.1107105 41.8269547)' 'POINT (-72.595184 41.28028400000001)'\n",
            " 'POINT (-72.24323 41.300883)' 'POINT (-73.5370682 41.0631099)'\n",
            " 'POINT (-72.351019 41.283487)' 'POINT (-72.033489 41.345816)'\n",
            " 'POINT (-72.656681 41.791382000000006)' 'POINT (-72.490259 41.766005)'\n",
            " 'POINT (-72.097938 41.498591)' 'POINT (-72.65242 41.557262)'\n",
            " 'POINT (-73.076682 41.22269)' 'POINT (-73.390319 41.126373)'\n",
            " 'POINT (-71.9105761999999 41.914329)' 'POINT (-73.3269248 41.1223426)'\n",
            " 'POINT (-73.4755929 41.3781241)' 'POINT (-73.40565000000001 41.102079)'\n",
            " 'POINT (-73.673445 41.040555)' 'POINT (-72.927405 41.305794)'\n",
            " 'POINT (-72.025954 41.365919)' 'POINT (-73.038159 41.235232)'\n",
            " 'POINT (-73.4165867 41.0999699)' 'POINT (-73.197598 41.990635)'\n",
            " 'POINT (-72.150349 41.380138)' 'POINT (-72.524041 41.276743)'\n",
            " 'POINT (-71.90810200000001 41.916161)' 'POINT (-73.537286 41.056092)'\n",
            " 'POINT (-71.9986079999999 41.859648)' 'POINT (-73.623525 41.017757)'\n",
            " 'POINT (-72.602704 41.784813)' 'POINT (-72.211716 41.712492)'\n",
            " 'POINT (-73.225707 41.491538)' 'POINT (-73.358893 41.140188)'\n",
            " 'POINT (-72.672545 41.769974)' 'POINT (-73.5160366 41.0532451)'\n",
            " 'POINT (-73.083686 41.209761)' 'POINT (-72.489406 41.983904)'\n",
            " 'POINT (-73.462202 41.079848)' 'POINT (-72.909054 41.359826)'\n",
            " 'POINT (-73.062364 41.226575)' 'POINT (-72.869319 41.820371)'\n",
            " 'POINT (-71.906607 41.798222)' 'POINT (-72.815676 41.45749)'\n",
            " 'POINT (-73.4232598 41.4158651)' 'POINT (-72.501947 41.575311)'\n",
            " 'POINT (-72.6724543999999 41.725002)'\n",
            " 'POINT (-73.53513900000002 41.051614)' 'POINT (-73.011407 41.353582)'\n",
            " 'POINT (-73.491965 41.370291)' 'POINT (-72.871663 41.277368)'\n",
            " 'POINT (-72.5090873 41.813843)' 'POINT (-72.574713 41.997574)'\n",
            " 'POINT (-73.322808 42.024351)' 'POINT (-73.042576 41.909753)'\n",
            " 'POINT (-73.47904 41.380158)' 'POINT (-73.053647 41.221934)'\n",
            " 'POINT (-73.4924 41.1464)' 'POINT (-73.009059 41.245823)'\n",
            " 'POINT (-73.7226456 41.0983971)' 'POINT (-72.367191 41.65659)'\n",
            " 'POINT (-73.261769 41.148757)' 'POINT (-72.366742 41.658572)'\n",
            " 'POINT (-72.87939 41.606301)' 'POINT (-72.681921 41.576716)'\n",
            " 'POINT (-72.009806 41.341893000000006)' 'POINT (-72.6798002 41.2832367)'\n",
            " 'POINT (-73.2246399 41.2286526)' 'POINT (-72.38345 41.292172)'\n",
            " 'POINT (-73.492801 41.394446)' 'POINT (-72.12423 41.505790000000005)'\n",
            " 'POINT (-73.545939 41.068654)' 'POINT (-72.99499 41.427276)'\n",
            " 'POINT (-72.944576 41.306583)' 'POINT (-73.369266 41.119291)'\n",
            " 'POINT (-73.671661 41.041538)' 'POINT (-72.769268 41.692299)'\n",
            " 'POINT (-72.740521 41.760873)' 'POINT (-72.593366 41.704415)'\n",
            " 'POINT (-72.676125 41.641774)' 'POINT (-73.411005 41.580889)'\n",
            " 'POINT (-73.44475 41.399432)' 'POINT (-73.305987 41.628601)'\n",
            " 'POINT (-72.5793623215072 41.291902304928)'\n",
            " 'POINT (-72.695702 41.290395)' 'POINT (-72.775522 41.478889)'\n",
            " 'POINT (-72.8935933 41.5374181)' 'POINT (-72.611655 41.706856)'\n",
            " 'POINT (-73.315136 41.122442)' 'POINT (-72.88305 41.564358)'\n",
            " 'POINT (-72.869331 41.818224)' 'POINT (-72.7653384 41.6356154)'\n",
            " 'POINT (-72.10451 41.510596)' 'POINT (-72.290233 41.984164)'\n",
            " 'POINT (-73.014176 41.354138)' 'POINT (-73.18122320000002 41.1781223)'\n",
            " 'POINT (-73.4145557 41.3703626)' 'POINT (-72.556345 41.812203)'\n",
            " 'POINT (-71.9098896 41.914513)' 'POINT (-73.418955 41.104278)'\n",
            " 'POINT (-72.241315 41.801976)' 'POINT (-73.122342 41.198018)'\n",
            " 'POINT (-72.718112 41.741696)' 'POINT (-72.934141 41.305265)'\n",
            " 'POINT (-73.389367 41.930342)' 'POINT (-73.477961 41.379441)'\n",
            " 'POINT (-73.443485 41.398492)' 'POINT (-72.313767 41.782923)'\n",
            " 'POINT (-73.540733 41.052215)' 'POINT (-72.044683 41.332527)'\n",
            " 'POINT (-73.5431681 41.0535888)' 'POINT (-72.8973437 41.618456)'\n",
            " 'POINT (-72.70705 41.772484)' 'POINT (-72.8411522 41.6771741)'\n",
            " 'POINT (-72.998271 41.252117)' 'POINT (-72.5697849 42.0000268)'\n",
            " 'POINT (-73.257123 41.146214)' 'POINT (-72.345572 41.312148)'\n",
            " 'POINT (-71.988657 41.390465)' 'POINT (-72.662214 41.550883)'\n",
            " 'POINT (-73.1897466 41.2020685)' 'POINT (-72.682868 41.764759)'\n",
            " 'POINT (-72.870997 41.360892)' 'POINT (-73.543258 41.045384000000006)'\n",
            " 'POINT (-72.807124 41.483774)' 'POINT (-73.263962 41.142152)'\n",
            " 'POINT (-73.3613829 41.1396711)' 'POINT (-73.634045 41.015276)'\n",
            " 'POINT (-73.2564712 41.1399023)' 'POINT (-72.656507 41.691611)'\n",
            " 'POINT (-72.867973 41.818345)' 'POINT (-73.544039 41.099044)'\n",
            " 'POINT (-72.652406 41.785974)' 'POINT (-72.561988 41.26449)'\n",
            " 'POINT (-73.54198740000001 41.0457112)' 'POINT (-72.676141 41.59054)'\n",
            " 'POINT (-72.65395 41.553597)' 'POINT (-72.721392 41.696446)'\n",
            " 'POINT (-73.546435 41.068704)' 'POINT (-73.036899 41.23608)'\n",
            " 'POINT (-72.054118 41.370989)' 'POINT (-73.010522 41.246242)'\n",
            " 'POINT (-72.640075 41.743194)' 'POINT (-72.68182500000002 41.769417)'\n",
            " 'POINT (-72.113144 41.55775)' 'POINT (-72.903596 41.384051)'\n",
            " 'POINT (-73.26088 41.132277)' 'POINT (-72.805988 41.53697)'\n",
            " 'POINT (-72.67363400000002 41.766034)' 'POINT (-73.1911131 41.1772308)'\n",
            " 'POINT (-73.017784 41.251801)' 'POINT (-73.5464906 41.0553525)'\n",
            " 'POINT (-73.264636 41.14221200000001)' 'POINT (-73.452539 41.102848)'\n",
            " 'POINT (-72.672748 41.918347)' 'POINT (-72.8007814 41.5394301)'\n",
            " 'POINT (-71.88232300000001 41.80577)' 'POINT (-72.768107 41.693501)'\n",
            " 'POINT (-71.97262186000002 41.94378281)' 'POINT (-73.43124 41.192802)'\n",
            " 'POINT (-72.65018090000001 41.5590961)' 'POINT (-72.639362 41.749499)'\n",
            " 'POINT (-72.812491 41.274658)' 'POINT (-72.907523 41.476271)'\n",
            " 'POINT (-73.033472 41.23636)' 'POINT (-72.648056 41.561647)'\n",
            " 'POINT (-72.789844 41.292505000000006)' 'POINT (-73.191423 41.177007)'\n",
            " 'POINT (-72.028928 41.347552)' 'POINT (-72.967327 41.771305)'\n",
            " 'POINT (-73.435546 41.258992)' 'POINT (-72.663078 41.951328)'\n",
            " 'POINT (-72.766102 41.306955)' 'POINT (-72.3518219 41.3890729)'\n",
            " 'POINT (-73.075525 41.394315000000006)' 'POINT (-72.091456 41.491597)'\n",
            " 'POINT (-72.581611 41.977252)' 'POINT (-73.23358 41.163146)'\n",
            " 'POINT (-72.674129 41.766493)' 'POINT (-73.4722156 41.3305782)'\n",
            " 'POINT (-73.453043 41.092037)' 'POINT (-72.46388 41.888958)'\n",
            " 'POINT (-73.097982 41.310498)' 'POINT (-73.442053 41.39936)'\n",
            " 'POINT (-73.4569573 41.089032)' 'POINT (-72.737672 41.760566)'\n",
            " 'POINT (-72.655754 41.71866250000001)' 'POINT (-73.494706 41.38756)'\n",
            " 'POINT (-73.256774 41.140584)' 'POINT (-73.542499 41.051637)'\n",
            " 'POINT (-72.709138 41.928233)' 'POINT (-73.566753 41.046329)'\n",
            " 'POINT (-72.781161 41.666233)' 'POINT (-72.43670100000001 41.386805)'\n",
            " 'POINT (-72.671417 41.766822)' 'POINT (-73.060012 41.222682)'\n",
            " 'POINT (-72.546017 41.251952)' 'POINT (-72.383105 41.309276)'\n",
            " 'POINT (-72.351072 41.28331)' 'POINT (-73.264399 41.142923)'\n",
            " 'POINT (-73.542177 41.046112)' 'POINT (-72.658514 41.651179)'\n",
            " 'POINT (-73.3304754 41.1526176)' 'POINT (-72.217506 41.71292)'\n",
            " 'POINT (-72.741204 41.758754)' 'POINT (-73.46135 41.080103)'\n",
            " 'POINT (-72.928369 41.304245)' 'POINT (-73.30764000000002 41.55358)'\n",
            " 'POINT (-72.78037 41.666879)' 'POINT (-72.241254 41.80199700000001)'\n",
            " 'POINT (-72.65266880000001 41.7632299)' 'POINT (-73.201059 41.697035)'\n",
            " 'POINT (-73.023973 41.549008)' 'POINT (-73.4178034 41.3762377)'\n",
            " 'POINT (-73.146142 41.477151000000006)' 'POINT (-72.442533 41.463278)'\n",
            " 'POINT (-73.540098 41.04514)' 'POINT (-72.1591426 41.3874871)'\n",
            " 'POINT (-71.9523342 41.469981700000005)' 'POINT (-72.668973 41.762852)'\n",
            " 'POINT (-73.098764 41.568122)' 'POINT (-71.954088 41.373074)'\n",
            " 'POINT (-73.038135 41.555816)' 'POINT (-73.451059 41.396042)'\n",
            " 'POINT (-73.5405387 41.040838)' 'POINT (-72.672842 41.762206)'\n",
            " 'POINT (-73.42219800000001 41.98483)' 'POINT (-72.813257 41.287914)'\n",
            " 'POINT (-72.7663278757019 41.6938875513217)'\n",
            " 'POINT (-72.253601 41.805152)'\n",
            " 'POINT (-72.5009065449829 41.8218766595564)' 'POINT (-72.9 41.294167)'\n",
            " 'POINT (-72.712466 41.8234945)' 'POINT (-73.546513 41.107722)'\n",
            " 'POINT (-72.258277 41.809176)' 'POINT (-73.255573 41.14807)'\n",
            " 'POINT (-73.250024 41.187855)' 'POINT (-73.414932 41.11803)'\n",
            " 'POINT (-72.9100121 41.3729709)' 'POINT (-72.674468 41.766676)'\n",
            " 'POINT (-72.063516 41.52757900000001)' 'POINT (-73.41763 41.55735)'\n",
            " 'POINT (-72.208134 41.7385909)']\n"
          ]
        }
      ]
    },
    {
      "cell_type": "code",
      "source": [
        "print( Electric Vehicle Charging station.describe())"
      ],
      "metadata": {
        "id": "1zCMl8dLsSHU",
        "colab": {
          "base_uri": "https://localhost:8080/",
          "height": 110
        },
        "outputId": "b25b9e56-279b-466e-a26b-46f7be1586e0"
      },
      "execution_count": null,
      "outputs": [
        {
          "output_type": "error",
          "ename": "SyntaxError",
          "evalue": "invalid syntax. Perhaps you forgot a comma? (<ipython-input-23-6d76e02f2d9a>, line 1)",
          "traceback": [
            "\u001b[0;36m  File \u001b[0;32m\"<ipython-input-23-6d76e02f2d9a>\"\u001b[0;36m, line \u001b[0;32m1\u001b[0m\n\u001b[0;31m    print( Electric Vehicle Charging station.describe())\u001b[0m\n\u001b[0m           ^\u001b[0m\n\u001b[0;31mSyntaxError\u001b[0m\u001b[0;31m:\u001b[0m invalid syntax. Perhaps you forgot a comma?\n"
          ]
        }
      ]
    },
    {
      "cell_type": "code",
      "source": [
        "x = df[['feature1','feature2']] # Independent variables (features)\n",
        "y = df['target']  # Dependent variable (target)\n",
        "x_train, x_test, y_train, y_test = train_test_split(x, y, test_size=0.2,\n",
        "                                                    random_state=42)"
      ],
      "metadata": {
        "colab": {
          "base_uri": "https://localhost:8080/",
          "height": 370
        },
        "id": "2K8yb5tD4PfS",
        "outputId": "72e0d0ef-09f3-4b00-dc8d-324ac102fcad"
      },
      "execution_count": 12,
      "outputs": [
        {
          "output_type": "error",
          "ename": "KeyError",
          "evalue": "\"None of [Index(['feature1', 'feature2'], dtype='object')] are in the [columns]\"",
          "traceback": [
            "\u001b[0;31m---------------------------------------------------------------------------\u001b[0m",
            "\u001b[0;31mKeyError\u001b[0m                                  Traceback (most recent call last)",
            "\u001b[0;32m<ipython-input-12-8fa6c2adf2d9>\u001b[0m in \u001b[0;36m<cell line: 1>\u001b[0;34m()\u001b[0m\n\u001b[0;32m----> 1\u001b[0;31m \u001b[0mx\u001b[0m \u001b[0;34m=\u001b[0m \u001b[0mdf\u001b[0m\u001b[0;34m[\u001b[0m\u001b[0;34m[\u001b[0m\u001b[0;34m'feature1'\u001b[0m\u001b[0;34m,\u001b[0m\u001b[0;34m'feature2'\u001b[0m\u001b[0;34m]\u001b[0m\u001b[0;34m]\u001b[0m \u001b[0;31m# Independent variables (features)\u001b[0m\u001b[0;34m\u001b[0m\u001b[0;34m\u001b[0m\u001b[0m\n\u001b[0m\u001b[1;32m      2\u001b[0m \u001b[0my\u001b[0m \u001b[0;34m=\u001b[0m \u001b[0mdf\u001b[0m\u001b[0;34m[\u001b[0m\u001b[0;34m'target'\u001b[0m\u001b[0;34m]\u001b[0m  \u001b[0;31m# Dependent variable (target)\u001b[0m\u001b[0;34m\u001b[0m\u001b[0;34m\u001b[0m\u001b[0m\n\u001b[1;32m      3\u001b[0m x_train, x_test, y_train, y_test = train_test_split(x, y, test_size=0.2,\n\u001b[1;32m      4\u001b[0m                                                     random_state=42)\n",
            "\u001b[0;32m/usr/local/lib/python3.10/dist-packages/pandas/core/frame.py\u001b[0m in \u001b[0;36m__getitem__\u001b[0;34m(self, key)\u001b[0m\n\u001b[1;32m   3765\u001b[0m             \u001b[0;32mif\u001b[0m \u001b[0mis_iterator\u001b[0m\u001b[0;34m(\u001b[0m\u001b[0mkey\u001b[0m\u001b[0;34m)\u001b[0m\u001b[0;34m:\u001b[0m\u001b[0;34m\u001b[0m\u001b[0;34m\u001b[0m\u001b[0m\n\u001b[1;32m   3766\u001b[0m                 \u001b[0mkey\u001b[0m \u001b[0;34m=\u001b[0m \u001b[0mlist\u001b[0m\u001b[0;34m(\u001b[0m\u001b[0mkey\u001b[0m\u001b[0;34m)\u001b[0m\u001b[0;34m\u001b[0m\u001b[0;34m\u001b[0m\u001b[0m\n\u001b[0;32m-> 3767\u001b[0;31m             \u001b[0mindexer\u001b[0m \u001b[0;34m=\u001b[0m \u001b[0mself\u001b[0m\u001b[0;34m.\u001b[0m\u001b[0mcolumns\u001b[0m\u001b[0;34m.\u001b[0m\u001b[0m_get_indexer_strict\u001b[0m\u001b[0;34m(\u001b[0m\u001b[0mkey\u001b[0m\u001b[0;34m,\u001b[0m \u001b[0;34m\"columns\"\u001b[0m\u001b[0;34m)\u001b[0m\u001b[0;34m[\u001b[0m\u001b[0;36m1\u001b[0m\u001b[0;34m]\u001b[0m\u001b[0;34m\u001b[0m\u001b[0;34m\u001b[0m\u001b[0m\n\u001b[0m\u001b[1;32m   3768\u001b[0m \u001b[0;34m\u001b[0m\u001b[0m\n\u001b[1;32m   3769\u001b[0m         \u001b[0;31m# take() does not accept boolean indexers\u001b[0m\u001b[0;34m\u001b[0m\u001b[0;34m\u001b[0m\u001b[0m\n",
            "\u001b[0;32m/usr/local/lib/python3.10/dist-packages/pandas/core/indexes/base.py\u001b[0m in \u001b[0;36m_get_indexer_strict\u001b[0;34m(self, key, axis_name)\u001b[0m\n\u001b[1;32m   5875\u001b[0m             \u001b[0mkeyarr\u001b[0m\u001b[0;34m,\u001b[0m \u001b[0mindexer\u001b[0m\u001b[0;34m,\u001b[0m \u001b[0mnew_indexer\u001b[0m \u001b[0;34m=\u001b[0m \u001b[0mself\u001b[0m\u001b[0;34m.\u001b[0m\u001b[0m_reindex_non_unique\u001b[0m\u001b[0;34m(\u001b[0m\u001b[0mkeyarr\u001b[0m\u001b[0;34m)\u001b[0m\u001b[0;34m\u001b[0m\u001b[0;34m\u001b[0m\u001b[0m\n\u001b[1;32m   5876\u001b[0m \u001b[0;34m\u001b[0m\u001b[0m\n\u001b[0;32m-> 5877\u001b[0;31m         \u001b[0mself\u001b[0m\u001b[0;34m.\u001b[0m\u001b[0m_raise_if_missing\u001b[0m\u001b[0;34m(\u001b[0m\u001b[0mkeyarr\u001b[0m\u001b[0;34m,\u001b[0m \u001b[0mindexer\u001b[0m\u001b[0;34m,\u001b[0m \u001b[0maxis_name\u001b[0m\u001b[0;34m)\u001b[0m\u001b[0;34m\u001b[0m\u001b[0;34m\u001b[0m\u001b[0m\n\u001b[0m\u001b[1;32m   5878\u001b[0m \u001b[0;34m\u001b[0m\u001b[0m\n\u001b[1;32m   5879\u001b[0m         \u001b[0mkeyarr\u001b[0m \u001b[0;34m=\u001b[0m \u001b[0mself\u001b[0m\u001b[0;34m.\u001b[0m\u001b[0mtake\u001b[0m\u001b[0;34m(\u001b[0m\u001b[0mindexer\u001b[0m\u001b[0;34m)\u001b[0m\u001b[0;34m\u001b[0m\u001b[0;34m\u001b[0m\u001b[0m\n",
            "\u001b[0;32m/usr/local/lib/python3.10/dist-packages/pandas/core/indexes/base.py\u001b[0m in \u001b[0;36m_raise_if_missing\u001b[0;34m(self, key, indexer, axis_name)\u001b[0m\n\u001b[1;32m   5936\u001b[0m                 \u001b[0;32mif\u001b[0m \u001b[0muse_interval_msg\u001b[0m\u001b[0;34m:\u001b[0m\u001b[0;34m\u001b[0m\u001b[0;34m\u001b[0m\u001b[0m\n\u001b[1;32m   5937\u001b[0m                     \u001b[0mkey\u001b[0m \u001b[0;34m=\u001b[0m \u001b[0mlist\u001b[0m\u001b[0;34m(\u001b[0m\u001b[0mkey\u001b[0m\u001b[0;34m)\u001b[0m\u001b[0;34m\u001b[0m\u001b[0;34m\u001b[0m\u001b[0m\n\u001b[0;32m-> 5938\u001b[0;31m                 \u001b[0;32mraise\u001b[0m \u001b[0mKeyError\u001b[0m\u001b[0;34m(\u001b[0m\u001b[0;34mf\"None of [{key}] are in the [{axis_name}]\"\u001b[0m\u001b[0;34m)\u001b[0m\u001b[0;34m\u001b[0m\u001b[0;34m\u001b[0m\u001b[0m\n\u001b[0m\u001b[1;32m   5939\u001b[0m \u001b[0;34m\u001b[0m\u001b[0m\n\u001b[1;32m   5940\u001b[0m             \u001b[0mnot_found\u001b[0m \u001b[0;34m=\u001b[0m \u001b[0mlist\u001b[0m\u001b[0;34m(\u001b[0m\u001b[0mensure_index\u001b[0m\u001b[0;34m(\u001b[0m\u001b[0mkey\u001b[0m\u001b[0;34m)\u001b[0m\u001b[0;34m[\u001b[0m\u001b[0mmissing_mask\u001b[0m\u001b[0;34m.\u001b[0m\u001b[0mnonzero\u001b[0m\u001b[0;34m(\u001b[0m\u001b[0;34m)\u001b[0m\u001b[0;34m[\u001b[0m\u001b[0;36m0\u001b[0m\u001b[0;34m]\u001b[0m\u001b[0;34m]\u001b[0m\u001b[0;34m.\u001b[0m\u001b[0munique\u001b[0m\u001b[0;34m(\u001b[0m\u001b[0;34m)\u001b[0m\u001b[0;34m)\u001b[0m\u001b[0;34m\u001b[0m\u001b[0;34m\u001b[0m\u001b[0m\n",
            "\u001b[0;31mKeyError\u001b[0m: \"None of [Index(['feature1', 'feature2'], dtype='object')] are in the [columns]\""
          ]
        }
      ]
    },
    {
      "cell_type": "code",
      "source": [
        "model = LinearRegression()\n",
        "model.fit(x_train, y_train)"
      ],
      "metadata": {
        "id": "_zkl_9vmVkkU",
        "colab": {
          "base_uri": "https://localhost:8080/",
          "height": 164
        },
        "outputId": "ae6ddb4f-a206-4ca8-c587-e31e6e04b2c6"
      },
      "execution_count": 13,
      "outputs": [
        {
          "output_type": "error",
          "ename": "NameError",
          "evalue": "name 'LinearRegression' is not defined",
          "traceback": [
            "\u001b[0;31m---------------------------------------------------------------------------\u001b[0m",
            "\u001b[0;31mNameError\u001b[0m                                 Traceback (most recent call last)",
            "\u001b[0;32m<ipython-input-13-a430dc0c1039>\u001b[0m in \u001b[0;36m<cell line: 1>\u001b[0;34m()\u001b[0m\n\u001b[0;32m----> 1\u001b[0;31m \u001b[0mmodel\u001b[0m \u001b[0;34m=\u001b[0m \u001b[0mLinearRegression\u001b[0m\u001b[0;34m(\u001b[0m\u001b[0;34m)\u001b[0m\u001b[0;34m\u001b[0m\u001b[0;34m\u001b[0m\u001b[0m\n\u001b[0m\u001b[1;32m      2\u001b[0m \u001b[0mmodel\u001b[0m\u001b[0;34m.\u001b[0m\u001b[0mfit\u001b[0m\u001b[0;34m(\u001b[0m\u001b[0mx_train\u001b[0m\u001b[0;34m,\u001b[0m \u001b[0my_train\u001b[0m\u001b[0;34m)\u001b[0m\u001b[0;34m\u001b[0m\u001b[0;34m\u001b[0m\u001b[0m\n",
            "\u001b[0;31mNameError\u001b[0m: name 'LinearRegression' is not defined"
          ]
        }
      ]
    },
    {
      "cell_type": "code",
      "source": [
        "print(\"coefficients:\",model.coef_)\n",
        "print(\"Intercept:\", model.intercept_)"
      ],
      "metadata": {
        "colab": {
          "base_uri": "https://localhost:8080/",
          "height": 164
        },
        "id": "DMn4oMcP6oqm",
        "outputId": "c9ceaee9-1484-461b-c9f1-9d195429753f"
      },
      "execution_count": 14,
      "outputs": [
        {
          "output_type": "error",
          "ename": "NameError",
          "evalue": "name 'model' is not defined",
          "traceback": [
            "\u001b[0;31m---------------------------------------------------------------------------\u001b[0m",
            "\u001b[0;31mNameError\u001b[0m                                 Traceback (most recent call last)",
            "\u001b[0;32m<ipython-input-14-02fae3bde9ee>\u001b[0m in \u001b[0;36m<cell line: 1>\u001b[0;34m()\u001b[0m\n\u001b[0;32m----> 1\u001b[0;31m \u001b[0mprint\u001b[0m\u001b[0;34m(\u001b[0m\u001b[0;34m\"coefficients:\"\u001b[0m\u001b[0;34m,\u001b[0m\u001b[0mmodel\u001b[0m\u001b[0;34m.\u001b[0m\u001b[0mcoef_\u001b[0m\u001b[0;34m)\u001b[0m\u001b[0;34m\u001b[0m\u001b[0;34m\u001b[0m\u001b[0m\n\u001b[0m\u001b[1;32m      2\u001b[0m \u001b[0mprint\u001b[0m\u001b[0;34m(\u001b[0m\u001b[0;34m\"Intercept:\"\u001b[0m\u001b[0;34m,\u001b[0m \u001b[0mmodel\u001b[0m\u001b[0;34m.\u001b[0m\u001b[0mintercept_\u001b[0m\u001b[0;34m)\u001b[0m\u001b[0;34m\u001b[0m\u001b[0;34m\u001b[0m\u001b[0m\n",
            "\u001b[0;31mNameError\u001b[0m: name 'model' is not defined"
          ]
        }
      ]
    },
    {
      "cell_type": "code",
      "source": [
        "y_pred = model.predict(x_test)"
      ],
      "metadata": {
        "colab": {
          "base_uri": "https://localhost:8080/",
          "height": 146
        },
        "id": "fPpMgEWO69-Z",
        "outputId": "026e1463-a2ce-4993-d699-8b0ae4d6f61b"
      },
      "execution_count": 16,
      "outputs": [
        {
          "output_type": "error",
          "ename": "NameError",
          "evalue": "name 'model' is not defined",
          "traceback": [
            "\u001b[0;31m---------------------------------------------------------------------------\u001b[0m",
            "\u001b[0;31mNameError\u001b[0m                                 Traceback (most recent call last)",
            "\u001b[0;32m<ipython-input-16-ae883ac500a2>\u001b[0m in \u001b[0;36m<cell line: 1>\u001b[0;34m()\u001b[0m\n\u001b[0;32m----> 1\u001b[0;31m \u001b[0my_pred\u001b[0m \u001b[0;34m=\u001b[0m \u001b[0mmodel\u001b[0m\u001b[0;34m.\u001b[0m\u001b[0mpredict\u001b[0m\u001b[0;34m(\u001b[0m\u001b[0mx_test\u001b[0m\u001b[0;34m)\u001b[0m\u001b[0;34m\u001b[0m\u001b[0;34m\u001b[0m\u001b[0m\n\u001b[0m",
            "\u001b[0;31mNameError\u001b[0m: name 'model' is not defined"
          ]
        }
      ]
    },
    {
      "cell_type": "code",
      "source": [
        "plt.scatter(y_test, y_pred)\n",
        "plt.xlabel(\"Actual Values\")\n",
        "plt.ylabel(\"predicted Values\")\n",
        "plt.title(\"Actual vs. Predicted Values\")\n",
        "plt.show()"
      ],
      "metadata": {
        "colab": {
          "base_uri": "https://localhost:8080/",
          "height": 219
        },
        "id": "XkSpUCt57ILE",
        "outputId": "f52eed8b-8177-4f5b-ba6e-d33702dab08e"
      },
      "execution_count": 15,
      "outputs": [
        {
          "output_type": "error",
          "ename": "NameError",
          "evalue": "name 'y_test' is not defined",
          "traceback": [
            "\u001b[0;31m---------------------------------------------------------------------------\u001b[0m",
            "\u001b[0;31mNameError\u001b[0m                                 Traceback (most recent call last)",
            "\u001b[0;32m<ipython-input-15-5c0e59fc9f67>\u001b[0m in \u001b[0;36m<cell line: 1>\u001b[0;34m()\u001b[0m\n\u001b[0;32m----> 1\u001b[0;31m \u001b[0mplt\u001b[0m\u001b[0;34m.\u001b[0m\u001b[0mscatter\u001b[0m\u001b[0;34m(\u001b[0m\u001b[0my_test\u001b[0m\u001b[0;34m,\u001b[0m \u001b[0my_pred\u001b[0m\u001b[0;34m)\u001b[0m\u001b[0;34m\u001b[0m\u001b[0;34m\u001b[0m\u001b[0m\n\u001b[0m\u001b[1;32m      2\u001b[0m \u001b[0mplt\u001b[0m\u001b[0;34m.\u001b[0m\u001b[0mxlabel\u001b[0m\u001b[0;34m(\u001b[0m\u001b[0;34m\"Actual Values\"\u001b[0m\u001b[0;34m)\u001b[0m\u001b[0;34m\u001b[0m\u001b[0;34m\u001b[0m\u001b[0m\n\u001b[1;32m      3\u001b[0m \u001b[0mplt\u001b[0m\u001b[0;34m.\u001b[0m\u001b[0mylabel\u001b[0m\u001b[0;34m(\u001b[0m\u001b[0;34m\"predicted Values\"\u001b[0m\u001b[0;34m)\u001b[0m\u001b[0;34m\u001b[0m\u001b[0;34m\u001b[0m\u001b[0m\n\u001b[1;32m      4\u001b[0m \u001b[0mplt\u001b[0m\u001b[0;34m.\u001b[0m\u001b[0mtitle\u001b[0m\u001b[0;34m(\u001b[0m\u001b[0;34m\"Actual vs. Predicted Values\"\u001b[0m\u001b[0;34m)\u001b[0m\u001b[0;34m\u001b[0m\u001b[0;34m\u001b[0m\u001b[0m\n\u001b[1;32m      5\u001b[0m \u001b[0mplt\u001b[0m\u001b[0;34m.\u001b[0m\u001b[0mshow\u001b[0m\u001b[0;34m(\u001b[0m\u001b[0;34m)\u001b[0m\u001b[0;34m\u001b[0m\u001b[0;34m\u001b[0m\u001b[0m\n",
            "\u001b[0;31mNameError\u001b[0m: name 'y_test' is not defined"
          ]
        }
      ]
    }
  ],
  "metadata": {
    "colab": {
      "provenance": []
    },
    "kernelspec": {
      "display_name": "Python 3",
      "name": "python3"
    },
    "language_info": {
      "name": "python"
    }
  },
  "nbformat": 4,
  "nbformat_minor": 0
}